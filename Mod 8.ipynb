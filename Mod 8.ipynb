{
 "cells": [
  {
   "cell_type": "markdown",
   "metadata": {},
   "source": [
    "# <font color='blue'>Module 8 - CCPS 109</font>\n",
    "# Searching\n",
    "\n",
    "* **Linear**\n",
    "* **Binary**"
   ]
  },
  {
   "cell_type": "markdown",
   "metadata": {},
   "source": [
    "You can explore the topic further on the following link:\n",
    "    \n",
    "https://python-textbok.readthedocs.io/en/1.0/Sorting_and_Searching_Algorithms.html"
   ]
  },
  {
   "cell_type": "markdown",
   "metadata": {},
   "source": [
    "**Python3 code to linearly search x in a lst[]. If x is present then return its location, otherwise return -1.**"
   ]
  },
  {
   "cell_type": "code",
   "execution_count": 1,
   "metadata": {},
   "outputs": [
    {
     "name": "stdout",
     "output_type": "stream",
     "text": [
      "Element is present at index 3\n"
     ]
    }
   ],
   "source": [
    "def search(lst, size, x): \n",
    "    \"\"\"If x is present in lst then return its location, otherwise return -1\"\"\"\n",
    "    for i in range (0, size): \n",
    "        if (lst[i] == x): \n",
    "            return i; \n",
    "    return -1; \n",
    "  \n",
    "# Driver Code \n",
    "lst = [ 2, 3, 4, 10, 40 ]; \n",
    "x = 10; \n",
    "size = len(lst); \n",
    "result = search(lst, size, x) \n",
    "if(result == -1): \n",
    "    print(\"Element is not present in the list\") \n",
    "else: \n",
    "    print(\"Element is present at index\", result); "
   ]
  },
  {
   "cell_type": "code",
   "execution_count": 2,
   "metadata": {
    "collapsed": true
   },
   "outputs": [],
   "source": [
    "def binarySearch(alist, item):\n",
    "    first = 0\n",
    "    last = len(alist)-1\n",
    "    found = False\n",
    "    index = -1\n",
    "    \n",
    "    while first<=last and not found:\n",
    "        midpoint = (first + last)//2\n",
    "        #If the item is found, reseting the variables\n",
    "        if alist[midpoint] == item:\n",
    "            found = True\n",
    "            index = midpoint\n",
    "        else:\n",
    "            if item < alist[midpoint]:\n",
    "                last = midpoint-1\n",
    "            else:\n",
    "                first = midpoint+1\n",
    "\n",
    "    return index"
   ]
  },
  {
   "cell_type": "code",
   "execution_count": 3,
   "metadata": {},
   "outputs": [
    {
     "name": "stdout",
     "output_type": "stream",
     "text": [
      "-1\n",
      "9\n"
     ]
    }
   ],
   "source": [
    "testlist = [0, 1, 2, 8, 13, 17, 19, 32, 42,51]\n",
    "print(binarySearch(testlist, 3))\n",
    "print(binarySearch(testlist, 51))"
   ]
  },
  {
   "cell_type": "markdown",
   "metadata": {},
   "source": [
    "**An algorithm to count how many elements of an array have a particular value:**"
   ]
  },
  {
   "cell_type": "code",
   "execution_count": 4,
   "metadata": {
    "collapsed": true
   },
   "outputs": [],
   "source": [
    "def cnt_elements_lst(lst,value):\n",
    "    count=0;\n",
    "    for i in range(len(lst)):\n",
    "        if(lst[i]==value):\n",
    "            count+=1\n",
    "    return count"
   ]
  },
  {
   "cell_type": "code",
   "execution_count": 5,
   "metadata": {},
   "outputs": [
    {
     "data": {
      "text/plain": [
       "2"
      ]
     },
     "execution_count": 5,
     "metadata": {},
     "output_type": "execute_result"
    }
   ],
   "source": [
    "testlist = [0, 1, 2, 8, 13, 17, 19, 32, 42,51,0,0,8]\n",
    "cnt_elements_lst(testlist,8)"
   ]
  },
  {
   "cell_type": "markdown",
   "metadata": {},
   "source": [
    " **When you don’t always run to the end of the list; e.g.:**"
   ]
  },
  {
   "cell_type": "code",
   "execution_count": 6,
   "metadata": {
    "collapsed": true
   },
   "outputs": [],
   "source": [
    "def is_element_in_lst(lst,value):\n",
    "    found = False;\n",
    "    for i in range(len(lst)):\n",
    "        if(lst[i]==value):\n",
    "            found = True;\n",
    "            break\n",
    "    return found"
   ]
  },
  {
   "cell_type": "code",
   "execution_count": 7,
   "metadata": {},
   "outputs": [
    {
     "name": "stdout",
     "output_type": "stream",
     "text": [
      "True\n",
      "False\n"
     ]
    }
   ],
   "source": [
    "testlist = [0, 1, 2, 8, 13, 17, 19, 32, 42,51,0,0,8]\n",
    "print(is_element_in_lst(testlist,13))\n",
    "print(is_element_in_lst(testlist,14))"
   ]
  }
 ],
 "metadata": {
  "kernelspec": {
   "display_name": "Python 3",
   "language": "python",
   "name": "python3"
  },
  "language_info": {
   "codemirror_mode": {
    "name": "ipython",
    "version": 3
   },
   "file_extension": ".py",
   "mimetype": "text/x-python",
   "name": "python",
   "nbconvert_exporter": "python",
   "pygments_lexer": "ipython3",
   "version": "3.6.3"
  }
 },
 "nbformat": 4,
 "nbformat_minor": 2
}
