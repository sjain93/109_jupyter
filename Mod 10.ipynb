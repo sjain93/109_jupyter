{
 "cells": [
  {
   "cell_type": "markdown",
   "metadata": {},
   "source": [
    "# <font color='blue'>Module 10 - CCPS 109</font>\n",
    "# Generator Functions\n",
    "\n",
    "**Generators simplify creation of iterators. A generator is a function that produces a sequence of results instead of a single value.**\n",
    "\n",
    "**Each time the yield statement is executed the function generates a new value.**\n",
    "\n",
    "To create a generator, you define a function as you normally would but use the yield statement instead of return, indicating to the interpreter that this function should be treated as an iterator:"
   ]
  },
  {
   "cell_type": "code",
   "execution_count": 1,
   "metadata": {
    "collapsed": true
   },
   "outputs": [],
   "source": [
    "def countdown(num):\n",
    "    print('Starting')\n",
    "    while num > 0:\n",
    "        yield num\n",
    "        num -= 1"
   ]
  },
  {
   "cell_type": "code",
   "execution_count": 2,
   "metadata": {},
   "outputs": [
    {
     "data": {
      "text/plain": [
       "<generator object countdown at 0x000001A8FDFD37D8>"
      ]
     },
     "execution_count": 2,
     "metadata": {},
     "output_type": "execute_result"
    }
   ],
   "source": [
    "val = countdown(5)\n",
    "val"
   ]
  },
  {
   "cell_type": "markdown",
   "metadata": {},
   "source": [
    "The **yield** statement pauses the function and saves the local state so that it can be resumed right where it left off.\n",
    "\n",
    "What happens when you call this function?"
   ]
  },
  {
   "cell_type": "markdown",
   "metadata": {},
   "source": [
    "Calling the function does not execute it. We know this because the string Starting did not print. Instead, the function returns a generator object which is used to control execution.\n",
    "\n",
    "Generator objects execute when next() is called:"
   ]
  },
  {
   "cell_type": "code",
   "execution_count": 3,
   "metadata": {},
   "outputs": [
    {
     "name": "stdout",
     "output_type": "stream",
     "text": [
      "Starting\n"
     ]
    },
    {
     "data": {
      "text/plain": [
       "5"
      ]
     },
     "execution_count": 3,
     "metadata": {},
     "output_type": "execute_result"
    }
   ],
   "source": [
    "next(val)"
   ]
  },
  {
   "cell_type": "code",
   "execution_count": 4,
   "metadata": {},
   "outputs": [
    {
     "data": {
      "text/plain": [
       "4"
      ]
     },
     "execution_count": 4,
     "metadata": {},
     "output_type": "execute_result"
    }
   ],
   "source": [
    "next(val)"
   ]
  },
  {
   "cell_type": "code",
   "execution_count": 5,
   "metadata": {},
   "outputs": [
    {
     "data": {
      "text/plain": [
       "3"
      ]
     },
     "execution_count": 5,
     "metadata": {},
     "output_type": "execute_result"
    }
   ],
   "source": [
    "next(val)"
   ]
  },
  {
   "cell_type": "code",
   "execution_count": 6,
   "metadata": {},
   "outputs": [
    {
     "name": "stdout",
     "output_type": "stream",
     "text": [
      "2\n",
      "1\n"
     ]
    }
   ],
   "source": [
    "print(next(val))\n",
    "print(next(val))"
   ]
  },
  {
   "cell_type": "code",
   "execution_count": 7,
   "metadata": {
    "collapsed": true
   },
   "outputs": [],
   "source": [
    "#next(val)"
   ]
  },
  {
   "cell_type": "markdown",
   "metadata": {},
   "source": [
    "<pre><span class=\"ansi-red-intense-fg ansi-bold\">---------------------------------------------------------------------------</span>\n",
    "<span class=\"ansi-red-intense-fg ansi-bold\">StopIteration</span>                             Traceback (most recent call last)\n",
    "<span class=\"ansi-green-intense-fg ansi-bold\">&lt;ipython-input-8-0715be1e7edd&gt;</span> in <span class=\"ansi-cyan-fg\">&lt;module&gt;</span><span class=\"ansi-blue-intense-fg ansi-bold\">()</span>\n",
    "<span class=\"ansi-green-intense-fg ansi-bold\">----&gt; 1</span><span class=\"ansi-yellow-intense-fg ansi-bold\"> </span>next<span class=\"ansi-yellow-intense-fg ansi-bold\">(</span>val<span class=\"ansi-yellow-intense-fg ansi-bold\">)</span>\n",
    "\n",
    "<span class=\"ansi-red-intense-fg ansi-bold\">StopIteration</span>: \n",
    "\n",
    "</pre>"
   ]
  },
  {
   "cell_type": "markdown",
   "metadata": {},
   "source": [
    "**You can get all the elements with your generatr with the methods like the following. Try this carefully for infinite generators**"
   ]
  },
  {
   "cell_type": "code",
   "execution_count": 8,
   "metadata": {
    "collapsed": true
   },
   "outputs": [],
   "source": [
    "#list(countdown(5))"
   ]
  },
  {
   "cell_type": "markdown",
   "metadata": {},
   "source": [
    " Iterators are much easier to define as generators. Simply using the\n",
    " keyword yield instead of return makes Python convert that function to a\n",
    " generator type with all the iteration methods loaded in.\n"
   ]
  },
  {
   "cell_type": "code",
   "execution_count": 9,
   "metadata": {
    "collapsed": true
   },
   "outputs": [],
   "source": [
    "def squares(start, end):\n",
    "    curr = start\n",
    "    while curr < end:\n",
    "        yield curr * curr\n",
    "        curr += 1"
   ]
  },
  {
   "cell_type": "code",
   "execution_count": 10,
   "metadata": {},
   "outputs": [
    {
     "name": "stdout",
     "output_type": "stream",
     "text": [
      "\n",
      "Printing the squares with generator:\n",
      "1 4 9 16 25 36 49 64 81 "
     ]
    }
   ],
   "source": [
    "print(\"\\nPrinting the squares with generator:\")\n",
    "for x in squares(1, 10):\n",
    "    print(x, end = ' ')"
   ]
  },
  {
   "cell_type": "markdown",
   "metadata": {},
   "source": [
    "Previous example generated a finite sequence. But there is nothing in the laws of nature or man that says that a sequence couldn't be infinite."
   ]
  },
  {
   "cell_type": "code",
   "execution_count": 11,
   "metadata": {
    "collapsed": true
   },
   "outputs": [],
   "source": [
    "def fibonacci():\n",
    "    yield 1\n",
    "    yield 1\n",
    "    curr = 2\n",
    "    prev = 1\n",
    "    while True:\n",
    "        yield curr\n",
    "        curr, prev = curr + prev, curr"
   ]
  },
  {
   "cell_type": "code",
   "execution_count": null,
   "metadata": {
    "collapsed": true
   },
   "outputs": [],
   "source": []
  },
  {
   "cell_type": "markdown",
   "metadata": {},
   "source": [
    " One one, two twos, three threes, four fours, five fives, ..."
   ]
  },
  {
   "cell_type": "code",
   "execution_count": 12,
   "metadata": {
    "collapsed": true
   },
   "outputs": [],
   "source": [
    "def pyramid_series():\n",
    "    v = 1\n",
    "    while True:\n",
    "        for i in range(v):\n",
    "            yield v\n",
    "        v += 1"
   ]
  },
  {
   "cell_type": "code",
   "execution_count": 13,
   "metadata": {},
   "outputs": [
    {
     "data": {
      "text/plain": [
       "<generator object pyramid_series at 0x000001A8FE08C0A0>"
      ]
     },
     "execution_count": 13,
     "metadata": {},
     "output_type": "execute_result"
    }
   ],
   "source": [
    "val = pyramid_series()\n",
    "val"
   ]
  },
  {
   "cell_type": "code",
   "execution_count": 14,
   "metadata": {},
   "outputs": [
    {
     "name": "stdout",
     "output_type": "stream",
     "text": [
      "1\n",
      "2\n",
      "2\n",
      "3\n",
      "3\n",
      "3\n",
      "4\n",
      "4\n",
      "4\n",
      "4\n",
      "5\n"
     ]
    }
   ],
   "source": [
    "print(next(val))\n",
    "print(next(val))\n",
    "print(next(val))\n",
    "print(next(val))\n",
    "print(next(val))\n",
    "print(next(val))\n",
    "print(next(val))\n",
    "print(next(val))\n",
    "print(next(val))\n",
    "print(next(val))\n",
    "print(next(val))"
   ]
  },
  {
   "cell_type": "markdown",
   "metadata": {},
   "source": [
    " Finite for all values of start, or infinite for some? Nobody knows!"
   ]
  },
  {
   "cell_type": "code",
   "execution_count": 15,
   "metadata": {
    "collapsed": true
   },
   "outputs": [],
   "source": [
    "def collatz(start):\n",
    "    while True:\n",
    "        yield start\n",
    "        if start == 1: break\n",
    "        elif start % 2 == 0:\n",
    "            start = start // 2\n",
    "        else:\n",
    "            start = 3 * start + 1"
   ]
  },
  {
   "cell_type": "markdown",
   "metadata": {},
   "source": [
    "**Generating random numbers with a given size**\n",
    "\n",
    " John von Neumann's failed idea for pseudorandom number generation.\n",
    " Even the greatest of giants stumble sometimes."
   ]
  },
  {
   "cell_type": "markdown",
   "metadata": {},
   "source": [
    "The **rjust() method** returns the right-justified string within the given minimum width.\n",
    "\n",
    "* **width** - width of the given string. If width is less than or equal to the length of the string, original string is returned.\n",
    "* **fillchar (Optional)** - character to fill the remaining space of the width\n"
   ]
  },
  {
   "cell_type": "code",
   "execution_count": 17,
   "metadata": {},
   "outputs": [
    {
     "data": {
      "text/plain": [
       "'0540'"
      ]
     },
     "execution_count": 17,
     "metadata": {},
     "output_type": "execute_result"
    }
   ],
   "source": [
    "str(540).rjust(4, '0')"
   ]
  },
  {
   "cell_type": "code",
   "execution_count": 57,
   "metadata": {},
   "outputs": [
    {
     "data": {
      "text/plain": [
       "'00000540'"
      ]
     },
     "execution_count": 57,
     "metadata": {},
     "output_type": "execute_result"
    }
   ],
   "source": [
    "str(540).rjust(8, '0')"
   ]
  },
  {
   "cell_type": "code",
   "execution_count": 16,
   "metadata": {
    "collapsed": true
   },
   "outputs": [],
   "source": [
    "def middle_square(n, k):\n",
    "    n = str(n).rjust(k, '0')\n",
    "    while True:\n",
    "        start = (len(n) - k) // 2\n",
    "        v = int(n[start:start+k])\n",
    "        yield v\n",
    "        n = str(v * v).rjust(2 * k, '0')"
   ]
  },
  {
   "cell_type": "code",
   "execution_count": 18,
   "metadata": {},
   "outputs": [
    {
     "data": {
      "text/plain": [
       "'00000540'"
      ]
     },
     "execution_count": 18,
     "metadata": {},
     "output_type": "execute_result"
    }
   ],
   "source": [
    "str(540).rjust(8, '0')"
   ]
  },
  {
   "cell_type": "code",
   "execution_count": 19,
   "metadata": {},
   "outputs": [
    {
     "data": {
      "text/plain": [
       "'1234567890'"
      ]
     },
     "execution_count": 19,
     "metadata": {},
     "output_type": "execute_result"
    }
   ],
   "source": [
    "#k=10\n",
    "n = str(1234567890).rjust(10, '0')\n",
    "n"
   ]
  },
  {
   "cell_type": "code",
   "execution_count": 20,
   "metadata": {},
   "outputs": [
    {
     "data": {
      "text/plain": [
       "0"
      ]
     },
     "execution_count": 20,
     "metadata": {},
     "output_type": "execute_result"
    }
   ],
   "source": [
    "#k=10\n",
    "start = (len(n) - 10) // 2\n",
    "start"
   ]
  },
  {
   "cell_type": "code",
   "execution_count": 21,
   "metadata": {},
   "outputs": [
    {
     "data": {
      "text/plain": [
       "1234567890"
      ]
     },
     "execution_count": 21,
     "metadata": {},
     "output_type": "execute_result"
    }
   ],
   "source": [
    "#k=10\n",
    "v = int(n[start:start+10])\n",
    "v"
   ]
  },
  {
   "cell_type": "code",
   "execution_count": 22,
   "metadata": {},
   "outputs": [
    {
     "data": {
      "text/plain": [
       "'01524157875019052100'"
      ]
     },
     "execution_count": 22,
     "metadata": {},
     "output_type": "execute_result"
    }
   ],
   "source": [
    "n = str(v * v).rjust(2 * 10, '0')\n",
    "n"
   ]
  },
  {
   "cell_type": "code",
   "execution_count": 23,
   "metadata": {},
   "outputs": [
    {
     "data": {
      "text/plain": [
       "5"
      ]
     },
     "execution_count": 23,
     "metadata": {},
     "output_type": "execute_result"
    }
   ],
   "source": [
    "start = (len(n) - 10) // 2\n",
    "start"
   ]
  },
  {
   "cell_type": "code",
   "execution_count": 24,
   "metadata": {},
   "outputs": [
    {
     "data": {
      "text/plain": [
       "1578750190"
      ]
     },
     "execution_count": 24,
     "metadata": {},
     "output_type": "execute_result"
    }
   ],
   "source": [
    "v = int(n[start:start+10])\n",
    "v"
   ]
  },
  {
   "cell_type": "code",
   "execution_count": 25,
   "metadata": {},
   "outputs": [
    {
     "data": {
      "text/plain": [
       "'02492452162425036100'"
      ]
     },
     "execution_count": 25,
     "metadata": {},
     "output_type": "execute_result"
    }
   ],
   "source": [
    "n = str(v * v).rjust(2 * 10, '0')\n",
    "n"
   ]
  },
  {
   "cell_type": "code",
   "execution_count": 26,
   "metadata": {},
   "outputs": [
    {
     "data": {
      "text/plain": [
       "5"
      ]
     },
     "execution_count": 26,
     "metadata": {},
     "output_type": "execute_result"
    }
   ],
   "source": [
    "start = (len(n) - 10) // 2\n",
    "start"
   ]
  },
  {
   "cell_type": "code",
   "execution_count": 27,
   "metadata": {},
   "outputs": [
    {
     "data": {
      "text/plain": [
       "4521624250"
      ]
     },
     "execution_count": 27,
     "metadata": {},
     "output_type": "execute_result"
    }
   ],
   "source": [
    "v = int(n[start:start+10])\n",
    "v"
   ]
  },
  {
   "cell_type": "code",
   "execution_count": 28,
   "metadata": {},
   "outputs": [
    {
     "name": "stdout",
     "output_type": "stream",
     "text": [
      "Middle square 10-digit random numbers from 1234567890:\n",
      "[1234567890, 1578750190, 4521624250, 858581880, 1628446643, 8384690979, 428133239, 2980703366, 5925560837, 2712329881, 7333833654, 1160645429, 978118585, 7159663224, 7774810980, 6857747285, 6978249248, 9625672125, 5638580020, 5846419432, 6201748672, 6865906537, 6725748193, 6887556427, 4335351090, 2690735641, 582897476, 7694675271, 275261389, 7688322742, 3065851543, 4456837154, 3974172748, 490309458, 4033646042, 3003921422, 5439095505, 7599125112, 7024678290, 1050779973, 1385516578, 6561879128, 2576904820, 4384513392, 9576846273, 9845366739, 2462254074, 6951249295, 8667612379, 5043525940]\n",
      "4-digit random numbers from 540 fall into a cycle right away:\n",
      "[540, 2916, 5030, 3009, 540, 2916, 5030, 3009, 540, 2916, 5030, 3009]\n"
     ]
    }
   ],
   "source": [
    "# The itertools module defines tons of handy functions to perform\n",
    "# computations on existing iterators, to be combined arbitrarily.\n",
    "\n",
    "import itertools as it\n",
    "\n",
    "#it.islice extracts a slice of a given size from iterable\n",
    "\n",
    "print(\"Middle square 10-digit random numbers from 1234567890:\")\n",
    "print(list(it.islice(middle_square(1234567890, 10), 50)))\n",
    "\n",
    "print(\"4-digit random numbers from 540 fall into a cycle right away:\")\n",
    "print(list(it.islice(middle_square(540, 4), 12)))"
   ]
  },
  {
   "cell_type": "markdown",
   "metadata": {},
   "source": [
    " Prime numbers, remembering all the prime numbers generated so far. To\n",
    " test whether a number is prime, it is sufficient to test divisibility\n",
    " only by the smaller primes found so far.\n"
   ]
  },
  {
   "cell_type": "code",
   "execution_count": 29,
   "metadata": {
    "collapsed": true
   },
   "outputs": [],
   "source": [
    "def primes():\n",
    "    primes = [2, 3, 5, 7, 11]\n",
    "    yield from primes # Handy syntactic sugar for yield inside for-loop\n",
    "    current = 13\n",
    "    while True:        \n",
    "        for divisor in primes:\n",
    "            if current % divisor == 0:\n",
    "                break\n",
    "            if divisor * divisor > current:\n",
    "                primes.append(current)\n",
    "                yield current\n",
    "                break\n",
    "        current += 2"
   ]
  },
  {
   "cell_type": "markdown",
   "metadata": {},
   "source": [
    "**Explaining enumerate**"
   ]
  },
  {
   "cell_type": "code",
   "execution_count": 30,
   "metadata": {},
   "outputs": [
    {
     "data": {
      "text/plain": [
       "[(0, 1), (1, 4), (2, 5), (3, 8), (4, 3)]"
      ]
     },
     "execution_count": 30,
     "metadata": {},
     "output_type": "execute_result"
    }
   ],
   "source": [
    "list(enumerate([1,4,5,8,3]))"
   ]
  },
  {
   "cell_type": "code",
   "execution_count": 31,
   "metadata": {},
   "outputs": [
    {
     "name": "stdout",
     "output_type": "stream",
     "text": [
      "Here are the first 5 prime numbers that contain their index:\n",
      "[(9, 29), (31, 131), (73, 373), (347, 2347), (6457, 64579)]\n",
      "Here are the first 10 prime numbers that contain their index:\n",
      "[(9, 29), (31, 131), (73, 373), (347, 2347), (6457, 64579), (6460, 64609), (6461, 64613), (6462, 64621), (6466, 64663), (6469, 64693)]\n"
     ]
    }
   ],
   "source": [
    "# The itertools module defines tons of handy functions to perform\n",
    "# computations on existing iterators, to be combined arbitrarily.\n",
    "import itertools as it\n",
    "\n",
    "# Python's built in function enumerate is handy if you need the position\n",
    "# of each iterated element.\n",
    "\n",
    "print (\"Here are the first 5 prime numbers that contain their index:\")\n",
    "print(list(it.islice(((i, p) for (i, p) in enumerate(primes()) if str(i) in str(p)), 5)))\n",
    "\n",
    "print (\"Here are the first 10 prime numbers that contain their index:\")\n",
    "print(list(it.islice(((i, p) for (i, p) in enumerate(primes()) if str(i) in str(p)), 10)))"
   ]
  },
  {
   "cell_type": "markdown",
   "metadata": {},
   "source": [
    " Since a generator can take parameters, we can write an iterator decorator\n",
    " that can be used to modify the result of any existing iterator. We don't\n",
    " have to care how that iterator was originally defined, as long at it\n",
    " somehow produces new values.\n"
   ]
  },
  {
   "cell_type": "code",
   "execution_count": 32,
   "metadata": {
    "collapsed": true
   },
   "outputs": [],
   "source": [
    "# Let through every k:th element and discard the rest.\n",
    "def every_kth(it, k):\n",
    "    count = k\n",
    "    for x in it:\n",
    "        count -= 1\n",
    "        if count == 0:            \n",
    "            yield x\n",
    "            count = k"
   ]
  },
  {
   "cell_type": "markdown",
   "metadata": {},
   "source": [
    "**itertools.takewhile(predicate, iterable)**\n",
    "\n",
    "**Make an iterator that returns elements from the iterable as long as the predicate is true. Roughly equivalent to:**"
   ]
  },
  {
   "cell_type": "code",
   "execution_count": 33,
   "metadata": {},
   "outputs": [
    {
     "data": {
      "text/plain": [
       "[1, 4]"
      ]
     },
     "execution_count": 33,
     "metadata": {},
     "output_type": "execute_result"
    }
   ],
   "source": [
    "list(it.takewhile(lambda x: x<5, [1,4,6,4,1])) #--> 1 4"
   ]
  },
  {
   "cell_type": "code",
   "execution_count": 34,
   "metadata": {},
   "outputs": [
    {
     "name": "stdout",
     "output_type": "stream",
     "text": [
      "Here is every seventh prime number up to one thousand:\n",
      "[17, 43, 73, 107, 149, 181, 227, 263, 307, 349, 389, 433, 467, 521, 571, 613, 653, 701, 751, 809, 853, 887, 947, 997]\n"
     ]
    }
   ],
   "source": [
    "# Take primes until they become greater than thousand\n",
    "print (\"Here is every seventh prime number up to one thousand:\")\n",
    "print (list(it.takewhile( (lambda x: x <= 1000), every_kth(primes(), 7))))"
   ]
  },
  {
   "cell_type": "code",
   "execution_count": 35,
   "metadata": {
    "collapsed": true
   },
   "outputs": [],
   "source": [
    "# Duplicate each element k times.\n",
    "def stutter(it, k):\n",
    "    for x in it:\n",
    "        for i in range(k):\n",
    "            yield x"
   ]
  },
  {
   "cell_type": "code",
   "execution_count": 36,
   "metadata": {
    "collapsed": true
   },
   "outputs": [],
   "source": [
    "val = stutter(collatz(12345), 3)"
   ]
  },
  {
   "cell_type": "code",
   "execution_count": 37,
   "metadata": {},
   "outputs": [
    {
     "name": "stdout",
     "output_type": "stream",
     "text": [
      "12345\n",
      "12345\n",
      "12345\n",
      "37036\n",
      "37036\n",
      "37036\n",
      "18518\n",
      "18518\n"
     ]
    }
   ],
   "source": [
    "print(next(val))\n",
    "print(next(val))\n",
    "print(next(val))\n",
    "print(next(val))\n",
    "print(next(val))\n",
    "print(next(val))\n",
    "print(next(val))\n",
    "print(next(val))"
   ]
  },
  {
   "cell_type": "markdown",
   "metadata": {},
   "source": [
    " **Extract all n-element sublists of the sequence from iterator.**"
   ]
  },
  {
   "cell_type": "code",
   "execution_count": 38,
   "metadata": {
    "collapsed": true
   },
   "outputs": [],
   "source": [
    "def ngrams(it, n):\n",
    "    result = []\n",
    "    for v in it:\n",
    "        result.append(v)\n",
    "        if len(result) >= n:\n",
    "            yield result\n",
    "            result = result[1:] # This step Converts ['Hello', 'world,', 'how'] to ['world,', 'how']"
   ]
  },
  {
   "cell_type": "code",
   "execution_count": 39,
   "metadata": {},
   "outputs": [
    {
     "name": "stdout",
     "output_type": "stream",
     "text": [
      "The string split into three consecutive words, overlapping:\n",
      "[['Hello', 'world,', 'how'], ['world,', 'how', 'are'], ['how', 'are', 'you'], ['are', 'you', 'today?']]\n"
     ]
    }
   ],
   "source": [
    "print(\"The string split into three consecutive words, overlapping:\")\n",
    "print(list(ngrams(\"Hello world, how are you today?\".split(\" \"), 3)))"
   ]
  },
  {
   "cell_type": "code",
   "execution_count": 40,
   "metadata": {},
   "outputs": [
    {
     "name": "stdout",
     "output_type": "stream",
     "text": [
      "[['Hello', 'world,'], ['world,', 'how'], ['how', 'are'], ['are', 'you'], ['you', 'today?']]\n"
     ]
    }
   ],
   "source": [
    "print(list(ngrams(\"Hello world, how are you today?\".split(\" \"), 2)))"
   ]
  },
  {
   "cell_type": "markdown",
   "metadata": {},
   "source": [
    " ### Compute a histogram of individual characters in words."
   ]
  },
  {
   "cell_type": "markdown",
   "metadata": {},
   "source": [
    "**Calculate the number of instances of each character in the text**"
   ]
  },
  {
   "cell_type": "code",
   "execution_count": 41,
   "metadata": {
    "collapsed": true
   },
   "outputs": [],
   "source": [
    "def histogram(words):\n",
    "    result = {}\n",
    "    for word in words:\n",
    "        for c in word:\n",
    "            result[c] = result.get(c, 0) + 1\n",
    "    return result"
   ]
  },
  {
   "cell_type": "markdown",
   "metadata": {},
   "source": [
    " ### Find all words that are palindromes"
   ]
  },
  {
   "cell_type": "markdown",
   "metadata": {},
   "source": [
    "**palindromes: same word is created if inverted**"
   ]
  },
  {
   "cell_type": "code",
   "execution_count": 42,
   "metadata": {},
   "outputs": [
    {
     "data": {
      "text/plain": [
       "'olleh'"
      ]
     },
     "execution_count": 42,
     "metadata": {},
     "output_type": "execute_result"
    }
   ],
   "source": [
    "'hello'[::-1] #to calculate inverse of a word"
   ]
  },
  {
   "cell_type": "code",
   "execution_count": 43,
   "metadata": {
    "collapsed": true
   },
   "outputs": [],
   "source": [
    "def palindromes(words):\n",
    "    return [x for x in words if x == x[::-1]]"
   ]
  },
  {
   "cell_type": "markdown",
   "metadata": {},
   "source": [
    "### Find all words that are a different word when read backwards. "
   ]
  },
  {
   "cell_type": "markdown",
   "metadata": {},
   "source": [
    "**When inverted, Again are words belonging to the same collection**"
   ]
  },
  {
   "cell_type": "code",
   "execution_count": 44,
   "metadata": {
    "collapsed": true
   },
   "outputs": [],
   "source": [
    "def semordnilap(words):\n",
    "    wset = set(words)\n",
    "    return [x for x in words if x != x[::-1] and x[::-1] in wset]"
   ]
  },
  {
   "cell_type": "markdown",
   "metadata": {},
   "source": [
    "Find all the rotodromes, **words that become other words when rotated.**"
   ]
  },
  {
   "cell_type": "code",
   "execution_count": 45,
   "metadata": {
    "collapsed": true
   },
   "outputs": [],
   "source": [
    "def rotodromes(words):\n",
    "    def _is_rotodrome(word, wset):\n",
    "        for i in range(1, len(word)):\n",
    "            w2 = word[i:] + word[:i]\n",
    "            if w2 != word and w2 in wset:\n",
    "                return True\n",
    "        return False\n",
    "    wset = set(words)\n",
    "    return [x for x in words if _is_rotodrome(x, wset)]"
   ]
  },
  {
   "cell_type": "markdown",
   "metadata": {},
   "source": [
    " Find the \"almost palindromes\", words that become palindromes when\n",
    " one letter is tactically removed.\n",
    " \n",
    " **Defined a function inside the function**"
   ]
  },
  {
   "cell_type": "code",
   "execution_count": 46,
   "metadata": {
    "collapsed": true
   },
   "outputs": [],
   "source": [
    "def almost_palindromes(words):    \n",
    "    def _almost(word):\n",
    "        for i in range(len(word) - 1):\n",
    "            w2 = word[:i] + word[i+1:]\n",
    "            if w2 == w2[::-1]:\n",
    "                return True\n",
    "        return False\n",
    "    return [x for x in words if len(x) > 2 and _almost(x)]"
   ]
  },
  {
   "cell_type": "code",
   "execution_count": 47,
   "metadata": {
    "collapsed": true
   },
   "outputs": [],
   "source": [
    "# How many words can be spelled out using only given characters?\n",
    "\n",
    "def limited_alphabet(words, chars):\n",
    "    # A regular expression used many times is good to precompile\n",
    "    # into the matching machine for speed and efficiency.\n",
    "    pat = re.compile('^[' + chars + ']+$')\n",
    "    return [word for word in words if pat.match(word)]  "
   ]
  },
  {
   "cell_type": "code",
   "execution_count": 48,
   "metadata": {},
   "outputs": [
    {
     "name": "stdout",
     "output_type": "stream",
     "text": [
      "Read in 210687 words.\n",
      "Read in 210687 words.\n"
     ]
    }
   ],
   "source": [
    "import re\n",
    "with open('words.txt', encoding=\"utf-8\") as f:\n",
    "    words = [x.strip() for x in f if x.islower()]\n",
    "print(f\"Read in {len(words)} words.\")\n",
    "words = limited_alphabet(words, \"abcdefghijklmnopqrstuvwxyz\")\n",
    "print(f\"Read in {len(words)} words.\")"
   ]
  },
  {
   "cell_type": "markdown",
   "metadata": {},
   "source": [
    "**Binary search can quickly find all words with given prefix.**"
   ]
  },
  {
   "cell_type": "code",
   "execution_count": 49,
   "metadata": {},
   "outputs": [
    {
     "name": "stdout",
     "output_type": "stream",
     "text": [
      "\n",
      "Words that start with 'aor' are:\n",
      " aorist, aoristic, aoristically, aorta, aortal, aortarctia, aortectasia, aortectasis, aortic, aorticorenal, aortism, aortitis, aortoclasia, aortoclasis, aortolith, aortomalacia, aortomalaxis, aortopathy, aortoptosia, aortoptosis, aortorrhaphy, aortosclerosis, aortostenosis, aortotomy.\n",
      "\n",
      "Words that start with 'jim' are:\n",
      " jimbang, jimberjaw, jimberjawed, jimjam, jimmy, jimp, jimply, jimpness, jimpricute, jimsedge.\n",
      "\n",
      "Words that start with 'propo' are:\n",
      " propodeal, propodeon, propodeum, propodial, propodiale, propodite, propoditic, propodium, propolis, propolitical, propolization, propolize, propone, proponement, proponent, proponer, propons, propooling, propopery, proportion, proportionability, proportionable, proportionableness, proportionably, proportional, proportionalism, proportionality, proportionally, proportionate, proportionately, proportionateness, proportioned, proportioner, proportionless, proportionment, proposable, proposal, proposant, propose, proposer, proposition, propositional, propositionally, propositionize, propositus, propound, propounder, propoundment, propoxy.\n"
     ]
    }
   ],
   "source": [
    "from bisect import bisect_left, bisect_right\n",
    "for prefix in [\"aor\", \"jim\", \"propo\"]:\n",
    "    result = []\n",
    "    idx = bisect_left(words, prefix)\n",
    "    while idx < len(words) and words[idx].startswith(prefix):\n",
    "        result.append(words[idx])\n",
    "        idx += 1\n",
    "    result = \", \".join(result)\n",
    "    print(f\"\\nWords that start with {prefix!r} are:\\n {result}.\")"
   ]
  },
  {
   "cell_type": "markdown",
   "metadata": {},
   "source": [
    "**How about finding all words that end with given suffix?**"
   ]
  },
  {
   "cell_type": "code",
   "execution_count": 50,
   "metadata": {},
   "outputs": [
    {
     "data": {
      "text/plain": [
       "'olleh'"
      ]
     },
     "execution_count": 50,
     "metadata": {},
     "output_type": "execute_result"
    }
   ],
   "source": [
    "suffix = \"hello\"\n",
    "suffix[::-1]"
   ]
  },
  {
   "cell_type": "markdown",
   "metadata": {},
   "source": [
    "**Invert all words and the problem will become similar to previous problem (matching prefix)**"
   ]
  },
  {
   "cell_type": "code",
   "execution_count": 51,
   "metadata": {},
   "outputs": [
    {
     "name": "stdout",
     "output_type": "stream",
     "text": [
      "\n",
      "Words that end with 'itus' are:\n",
      " habitus, ambitus, cubitus, accubitus, decubitus, concubitus, aditus, vagitus, digitus, litus, halitus, fremitus, vomitus, porphyrogenitus, tinnitus, coitus, introitus, crepitus, emeritus, spiritus, detritus, attritus, pruritus, situs, transitus, propositus, exitus.\n",
      "\n",
      "Words that end with 'roo' are:\n",
      " daroo, garoo, kangaroo, jackaroo, buckaroo, wallaroo, gillaroo, cockamaroo, broo, scroo, wanderoo, slitheroo, tooroo, potoroo, proo, karroo, whirroo, hurroo.\n",
      "\n",
      "Words that end with 'lua' are:\n",
      " punalua, ulua.\n"
     ]
    }
   ],
   "source": [
    "words_r = [word[::-1] for word in words]\n",
    "words_r.sort()\n",
    "for suffix in [\"itus\", \"roo\", \"lua\"]:\n",
    "    suffix = suffix[::-1]\n",
    "    result = []\n",
    "    idx = bisect_left(words_r, suffix)\n",
    "    while idx < len(words_r) and words_r[idx].startswith(suffix):\n",
    "        result.append(words_r[idx][::-1])\n",
    "        idx += 1\n",
    "    result = \", \".join(result)\n",
    "    print(f\"\\nWords that end with {suffix[::-1]!r} are:\\n {result}.\")"
   ]
  },
  {
   "cell_type": "code",
   "execution_count": 52,
   "metadata": {},
   "outputs": [
    {
     "name": "stdout",
     "output_type": "stream",
     "text": [
      "\n",
      "Histogram of letters sorted by their frequencies:\n",
      "[('e', 215193), ('i', 179071), ('a', 168571), ('o', 155766), ('r', 147371), ('n', 143656), ('t', 140956), ('s', 126632), ('l', 119525), ('c', 93221), ('u', 80032), ('p', 71358), ('m', 62821), ('d', 61121), ('h', 56312), ('y', 47765), ('g', 43310), ('b', 36874), ('f', 23098), ('v', 18918), ('k', 14325), ('w', 13009), ('z', 7318), ('x', 6348), ('q', 3431), ('j', 2506)]\n"
     ]
    }
   ],
   "source": [
    "hist = histogram(words).items()\n",
    "hist = sorted(hist, key = (lambda x: x[1]), reverse = True)    \n",
    "print(\"\\nHistogram of letters sorted by their frequencies:\")\n",
    "print(hist)"
   ]
  },
  {
   "cell_type": "code",
   "execution_count": 53,
   "metadata": {},
   "outputs": [
    {
     "name": "stdout",
     "output_type": "stream",
     "text": [
      "\n",
      "There are 135 palindromes. Some of them are:\n",
      "dud, mim, o, acca, aha, tut, atta, d, retter, did\n"
     ]
    }
   ],
   "source": [
    "from random import choice, sample\n",
    "\n",
    "pals = palindromes(words)\n",
    "print(f\"\\nThere are {len(pals)} palindromes. \", end = \"\")\n",
    "print(\"Some of them are:\")\n",
    "print(\", \".join(sample(pals, 10)))"
   ]
  },
  {
   "cell_type": "code",
   "execution_count": 54,
   "metadata": {},
   "outputs": [
    {
     "name": "stdout",
     "output_type": "stream",
     "text": [
      "\n",
      "There are 930 semordnilaps. Some of them are:\n",
      "agama, cure, sea, poon, ah, ranid, aes, sey, amen, pad\n"
     ]
    }
   ],
   "source": [
    "sems = semordnilap(words)    #semordnilap words are the words When inverted, Again are words belonging to the same collection\n",
    "print(f\"\\nThere are {len(sems)} semordnilaps. Some of them are:\")\n",
    "print(\", \".join(sample(sems, 10)))"
   ]
  },
  {
   "cell_type": "code",
   "execution_count": 55,
   "metadata": {},
   "outputs": [
    {
     "name": "stdout",
     "output_type": "stream",
     "text": [
      "\n",
      "There are 850 almost palindromes. Some of them are:\n",
      "siss, yede, kirk, twilit, zocco, shah, toit, massa, mala, poroporo\n"
     ]
    }
   ],
   "source": [
    "almost = almost_palindromes(words)\n",
    "print(f\"\\nThere are {len(almost)} almost palindromes. \", end = \"\")\n",
    "print(\"Some of them are:\")\n",
    "print(\", \".join(sample(almost, 10)))"
   ]
  },
  {
   "cell_type": "code",
   "execution_count": 56,
   "metadata": {},
   "outputs": [
    {
     "name": "stdout",
     "output_type": "stream",
     "text": [
      "\n",
      "Let us next look for some rotodromes.\n",
      "There are 68 rotodromes of length 2. Some of them are:\n",
      "ow, am, my, ma, me, um, er, da, os, ho.\n",
      "There are 250 rotodromes of length 3. Some of them are:\n",
      "one, rhe, ait, chi, den, tea, baa, yen, leu, arn.\n",
      "There are 593 rotodromes of length 4. Some of them are:\n",
      "stog, mese, pike, soon, oont, odel, lyre, hatt, lora, baku.\n",
      "There are 376 rotodromes of length 5. Some of them are:\n",
      "skere, rovet, masha, trews, monal, serin, bagre, vedro, metra, begob.\n",
      "There are 284 rotodromes of length 6. Some of them are:\n",
      "versta, attern, folden, setoff, enlist, angler, emerse, anchor, offcut, upcock.\n",
      "There are 220 rotodromes of length 7. Some of them are:\n",
      "manhole, setdown, overrun, washout, outwalk, outblow, trundle, enheart, tabaret, twinkle.\n",
      "There are 162 rotodromes of length 8. Some of them are:\n",
      "ribspare, workhand, woodhack, bushwood, fishfall, outbreak, casebook, landbook, fulcrate, electric.\n",
      "There are 70 rotodromes of length 9. Some of them are:\n",
      "breakwind, shipowner, headstone, toothpick, dunstable, graphical, housework, trackside, ownership, piecework.\n",
      "There are 42 rotodromes of length 10. Some of them are:\n",
      "workmaster, woodpecker, headstrong, mastership, shipmaster, waterflood, woodsilver, keepership, peckerwood, pinchbelly.\n",
      "There are 8 rotodromes of length 11. Some of them are:\n",
      "arthropodan, lethologica, anarthropod, grasshopper, sextodecimo, decimosexto, ethological, hoppergrass.\n",
      "There are 2 rotodromes of length 12. Some of them are:\n",
      "slaughterman, manslaughter.\n"
     ]
    }
   ],
   "source": [
    "print(\"\\nLet us next look for some rotodromes.\")\n",
    "#rotodromes are the words that become other words when rotated.\n",
    "for i in range(2, 13):\n",
    "    rotos = rotodromes([w for w in words if len(w) == i])\n",
    "    print(f\"There are {len(rotos)} rotodromes of length {i}. \", end = \"\")\n",
    "    print(f\"Some of them are:\")\n",
    "    print(f\"{', '.join(sample(rotos, min(10, len(rotos))))}.\")"
   ]
  }
 ],
 "metadata": {
  "kernelspec": {
   "display_name": "Python 3",
   "language": "python",
   "name": "python3"
  },
  "language_info": {
   "codemirror_mode": {
    "name": "ipython",
    "version": 3
   },
   "file_extension": ".py",
   "mimetype": "text/x-python",
   "name": "python",
   "nbconvert_exporter": "python",
   "pygments_lexer": "ipython3",
   "version": "3.6.3"
  }
 },
 "nbformat": 4,
 "nbformat_minor": 2
}
