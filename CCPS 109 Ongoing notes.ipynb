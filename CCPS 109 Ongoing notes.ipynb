{
 "cells": [
  {
   "cell_type": "markdown",
   "metadata": {},
   "source": [
    "# <font color='blue'>Module 9 - CCPS 109</font>\n",
    "# Recursion and JSON Files\n",
    "* **Recursion**\n",
    "* **reading and exploring the JSON files**\n",
    "* **sorted function**"
   ]
  },
  {
   "cell_type": "markdown",
   "metadata": {},
   "source": [
    "**Calculating factorial of a number**"
   ]
  },
  {
   "cell_type": "code",
   "execution_count": 1,
   "metadata": {},
   "outputs": [],
   "source": [
    "def factorial(num):\n",
    "    factorial = 1\n",
    "    # check if the number is negative, positive or zero\n",
    "    if num < 0:\n",
    "        return -1\n",
    "    elif num == 0:\n",
    "        return 1\n",
    "    else:\n",
    "        for i in range(1,num + 1):\n",
    "            factorial = factorial*i\n",
    "        return factorial"
   ]
  },
  {
   "cell_type": "code",
   "execution_count": 2,
   "metadata": {},
   "outputs": [
    {
     "name": "stdout",
     "output_type": "stream",
     "text": [
      "6\n",
      "120\n"
     ]
    }
   ],
   "source": [
    "print(factorial(3))\n",
    "print(factorial(5))"
   ]
  },
  {
   "cell_type": "markdown",
   "metadata": {},
   "source": [
    "**Following implementation can be considered as correct, assuming that the users will input only positive numbers. (factorial is defined only for non-negative integer numbers)**"
   ]
  },
  {
   "cell_type": "code",
   "execution_count": 3,
   "metadata": {
    "collapsed": true
   },
   "outputs": [],
   "source": [
    "def iterative_factorial(n):\n",
    "    result = 1\n",
    "    for i in range(2,n+1):\n",
    "        result *= i\n",
    "    return result"
   ]
  },
  {
   "cell_type": "code",
   "execution_count": 4,
   "metadata": {},
   "outputs": [
    {
     "data": {
      "text/plain": [
       "1"
      ]
     },
     "execution_count": 4,
     "metadata": {},
     "output_type": "execute_result"
    }
   ],
   "source": [
    "iterative_factorial(-13)"
   ]
  },
  {
   "cell_type": "markdown",
   "metadata": {},
   "source": [
    "# Recursion\n",
    "Recursion is a technique of solving a problem where the solution depends on solutions to smaller instances of the same problem"
   ]
  },
  {
   "cell_type": "code",
   "execution_count": 5,
   "metadata": {
    "collapsed": true
   },
   "outputs": [],
   "source": [
    "def fact(n):\n",
    "    if n == 0:\n",
    "        return 1\n",
    "    else:\n",
    "        return n * fact(n-1)"
   ]
  },
  {
   "cell_type": "code",
   "execution_count": 6,
   "metadata": {},
   "outputs": [
    {
     "name": "stdout",
     "output_type": "stream",
     "text": [
      "6\n",
      "120\n"
     ]
    }
   ],
   "source": [
    "print(fact(3))\n",
    "print(fact(5))"
   ]
  },
  {
   "cell_type": "code",
   "execution_count": 7,
   "metadata": {
    "collapsed": true
   },
   "outputs": [],
   "source": [
    "#fact(1970)"
   ]
  },
  {
   "cell_type": "code",
   "execution_count": 8,
   "metadata": {
    "collapsed": true
   },
   "outputs": [],
   "source": [
    "#Uncomment this code will give the following output\n",
    "#fact(1971)"
   ]
  },
  {
   "cell_type": "markdown",
   "metadata": {},
   "source": [
    "<pre><span class=\"ansi-red-intense-fg ansi-bold\">---------------------------------------------------------------------------</span>\n",
    "<span class=\"ansi-red-intense-fg ansi-bold\">RecursionError</span>                            Traceback (most recent call last)\n",
    "<span class=\"ansi-green-intense-fg ansi-bold\">&lt;ipython-input-64-bf9c14a30c98&gt;</span> in <span class=\"ansi-cyan-fg\">&lt;module&gt;</span><span class=\"ansi-blue-intense-fg ansi-bold\">()</span>\n",
    "<span class=\"ansi-green-intense-fg ansi-bold\">----&gt; 1</span><span class=\"ansi-yellow-intense-fg ansi-bold\"> </span>fact<span class=\"ansi-yellow-intense-fg ansi-bold\">(</span><span class=\"ansi-cyan-intense-fg ansi-bold\">1971</span><span class=\"ansi-yellow-intense-fg ansi-bold\">)</span>\n",
    "\n",
    "<span class=\"ansi-green-intense-fg ansi-bold\">&lt;ipython-input-38-30e396369bb1&gt;</span> in <span class=\"ansi-cyan-fg\">fact</span><span class=\"ansi-blue-intense-fg ansi-bold\">(n)</span>\n",
    "<span class=\"ansi-green-fg\">      3</span>         <span class=\"ansi-green-intense-fg ansi-bold\">return</span> <span class=\"ansi-cyan-intense-fg ansi-bold\">1</span>\n",
    "<span class=\"ansi-green-fg\">      4</span>     <span class=\"ansi-green-intense-fg ansi-bold\">else</span><span class=\"ansi-yellow-intense-fg ansi-bold\">:</span>\n",
    "<span class=\"ansi-green-intense-fg ansi-bold\">----&gt; 5</span><span class=\"ansi-yellow-intense-fg ansi-bold\">         </span><span class=\"ansi-green-intense-fg ansi-bold\">return</span> n <span class=\"ansi-yellow-intense-fg ansi-bold\">*</span> fact<span class=\"ansi-yellow-intense-fg ansi-bold\">(</span>n<span class=\"ansi-yellow-intense-fg ansi-bold\">-</span><span class=\"ansi-cyan-intense-fg ansi-bold\">1</span><span class=\"ansi-yellow-intense-fg ansi-bold\">)</span>\n",
    "\n",
    "... last 1 frames repeated, from the frame below ...\n",
    "\n",
    "<span class=\"ansi-green-intense-fg ansi-bold\">&lt;ipython-input-38-30e396369bb1&gt;</span> in <span class=\"ansi-cyan-fg\">fact</span><span class=\"ansi-blue-intense-fg ansi-bold\">(n)</span>\n",
    "<span class=\"ansi-green-fg\">      3</span>         <span class=\"ansi-green-intense-fg ansi-bold\">return</span> <span class=\"ansi-cyan-intense-fg ansi-bold\">1</span>\n",
    "<span class=\"ansi-green-fg\">      4</span>     <span class=\"ansi-green-intense-fg ansi-bold\">else</span><span class=\"ansi-yellow-intense-fg ansi-bold\">:</span>\n",
    "<span class=\"ansi-green-intense-fg ansi-bold\">----&gt; 5</span><span class=\"ansi-yellow-intense-fg ansi-bold\">         </span><span class=\"ansi-green-intense-fg ansi-bold\">return</span> n <span class=\"ansi-yellow-intense-fg ansi-bold\">*</span> fact<span class=\"ansi-yellow-intense-fg ansi-bold\">(</span>n<span class=\"ansi-yellow-intense-fg ansi-bold\">-</span><span class=\"ansi-cyan-intense-fg ansi-bold\">1</span><span class=\"ansi-yellow-intense-fg ansi-bold\">)</span>\n",
    "\n",
    "<span class=\"ansi-red-intense-fg ansi-bold\">RecursionError</span>: maximum recursion depth exceeded in comparison\n",
    "\n",
    "</pre>"
   ]
  },
  {
   "cell_type": "markdown",
   "metadata": {},
   "source": [
    "fact(1971)"
   ]
  },
  {
   "cell_type": "markdown",
   "metadata": {},
   "source": [
    "**This happens because python stop calling recursive function after a certain number of calls by default. To change this behavior you need to amend the code as follows.**"
   ]
  },
  {
   "cell_type": "code",
   "execution_count": 9,
   "metadata": {
    "collapsed": true
   },
   "outputs": [],
   "source": [
    "import sys\n",
    "sys.setrecursionlimit(3000)\n",
    " \n",
    "def fact(n):\n",
    "    if n == 0:\n",
    "        return 1\n",
    "    else:\n",
    "        return n * fact(n-1)"
   ]
  },
  {
   "cell_type": "code",
   "execution_count": 10,
   "metadata": {
    "collapsed": true
   },
   "outputs": [],
   "source": [
    "#Uncomment the following, it works\n",
    "#fact(2000)"
   ]
  },
  {
   "cell_type": "markdown",
   "metadata": {},
   "source": [
    "**calculating sum of all elements of a list recursively**"
   ]
  },
  {
   "cell_type": "code",
   "execution_count": 11,
   "metadata": {
    "collapsed": true
   },
   "outputs": [],
   "source": [
    "def list_sum_recursive(input_list):\n",
    "    # Base case\n",
    "    if input_list == []:\n",
    "        return 0\n",
    "\n",
    "    # Recursive case\n",
    "    # Decompose the original problem into simpler instances of the same problem\n",
    "    # by making use of the fact that the input is a recursive data structure\n",
    "    # and can be deﬁned in terms of a smaller version of itself\n",
    "    else:\n",
    "        head = input_list[0]\n",
    "        smaller_list = input_list[1:]\n",
    "        return head + list_sum_recursive(smaller_list)"
   ]
  },
  {
   "cell_type": "code",
   "execution_count": 12,
   "metadata": {},
   "outputs": [
    {
     "data": {
      "text/plain": [
       "36"
      ]
     },
     "execution_count": 12,
     "metadata": {},
     "output_type": "execute_result"
    }
   ],
   "source": [
    "list_sum_recursive([11, 12, 13])"
   ]
  },
  {
   "cell_type": "markdown",
   "metadata": {},
   "source": [
    "### Sorted() function in Python"
   ]
  },
  {
   "cell_type": "markdown",
   "metadata": {},
   "source": [
    "Sorting any sequence is very easy in Python using built-in method sorted() which does all the hard work for you.\n",
    "\n",
    "Sorted() sorts any sequence (list, tuple) and always returns a list with the elements in sorted manner, without modifying the original sequence."
   ]
  },
  {
   "cell_type": "markdown",
   "metadata": {},
   "source": [
    "**Syntax** : sorted(iterable, key, reverse)"
   ]
  },
  {
   "cell_type": "markdown",
   "metadata": {},
   "source": [
    "**Parameters** : sorted takes three parameters from which two are optional.\n",
    "\n",
    "* Iterable : sequence (list, tuple, string) or collection (dictionary, set, frozenset) or any other iterator that needs to be sorted.\n",
    "* Key(optional) : A function that would server as a key or a basis of sort comparison.\n",
    "* Reverse(optional) : If set true, then the iterable would be sorted in reverse (descending) order, by default it is set as false"
   ]
  },
  {
   "cell_type": "code",
   "execution_count": 13,
   "metadata": {
    "collapsed": true
   },
   "outputs": [],
   "source": [
    "x = [2, 8, 1, 4, 6, 3, 7] "
   ]
  },
  {
   "cell_type": "code",
   "execution_count": 14,
   "metadata": {},
   "outputs": [
    {
     "data": {
      "text/plain": [
       "[1, 2, 3, 4, 6, 7, 8]"
      ]
     },
     "execution_count": 14,
     "metadata": {},
     "output_type": "execute_result"
    }
   ],
   "source": [
    "sorted(x)"
   ]
  },
  {
   "cell_type": "markdown",
   "metadata": {},
   "source": [
    "**Custom Sorting using the key parameter**\n",
    "\n",
    "* sorted() function has an optional parameter called ‘key’ which takes a function as its value. This key function transforms each element before sorting, it takes the value and returns 1 value which is then used within sort instead of the original value.\n",
    "\n",
    "* For example, if we pass a list of strings in sorted(), it gets sorted alphabetically . But if we specify key = len, i.e. give len function as key, then the strings would be passed to len, and the value it returns, i.e. the length of strings will be sorted. Which means that the strings would be sorted based on their lengths instead"
   ]
  },
  {
   "cell_type": "code",
   "execution_count": 15,
   "metadata": {},
   "outputs": [
    {
     "data": {
      "text/plain": [
       "['aaa', 'b', 'cccc', 'dd']"
      ]
     },
     "execution_count": 15,
     "metadata": {},
     "output_type": "execute_result"
    }
   ],
   "source": [
    "L = [\"cccc\", \"b\", \"dd\", \"aaa\"] \n",
    "sorted(L)"
   ]
  },
  {
   "cell_type": "code",
   "execution_count": 16,
   "metadata": {},
   "outputs": [
    {
     "data": {
      "text/plain": [
       "['b', 'dd', 'aaa', 'cccc']"
      ]
     },
     "execution_count": 16,
     "metadata": {},
     "output_type": "execute_result"
    }
   ],
   "source": [
    "sorted(L, key = len)"
   ]
  },
  {
   "cell_type": "markdown",
   "metadata": {},
   "source": [
    "**Key also takes user-defined functions as its value for the basis of sorting.**"
   ]
  },
  {
   "cell_type": "code",
   "execution_count": 17,
   "metadata": {
    "collapsed": true
   },
   "outputs": [],
   "source": [
    "# Sort a list of integers based on \n",
    "# their remainder on dividing from 7 \n",
    "  \n",
    "def func(x): \n",
    "    return x % 7"
   ]
  },
  {
   "cell_type": "code",
   "execution_count": 18,
   "metadata": {},
   "outputs": [
    {
     "data": {
      "text/plain": [
       "[3, 7, 11, 15]"
      ]
     },
     "execution_count": 18,
     "metadata": {},
     "output_type": "execute_result"
    }
   ],
   "source": [
    "L = [15, 3, 11, 7] \n",
    "sorted(L) "
   ]
  },
  {
   "cell_type": "code",
   "execution_count": 19,
   "metadata": {},
   "outputs": [
    {
     "data": {
      "text/plain": [
       "[7, 15, 3, 11]"
      ]
     },
     "execution_count": 19,
     "metadata": {},
     "output_type": "execute_result"
    }
   ],
   "source": [
    "sorted(L, key = func) "
   ]
  },
  {
   "cell_type": "code",
   "execution_count": 20,
   "metadata": {},
   "outputs": [
    {
     "name": "stdout",
     "output_type": "stream",
     "text": [
      "Read 240 countries from the JSON file.\n"
     ]
    }
   ],
   "source": [
    "import json\n",
    "\n",
    "with open('countries.json', encoding=\"utf-8\") as data_file:\n",
    "    countries = json.load(data_file)\n",
    "\n",
    "print(f\"Read {len(countries)} countries from the JSON file.\")"
   ]
  },
  {
   "cell_type": "code",
   "execution_count": 21,
   "metadata": {},
   "outputs": [
    {
     "data": {
      "text/plain": [
       "list"
      ]
     },
     "execution_count": 21,
     "metadata": {},
     "output_type": "execute_result"
    }
   ],
   "source": [
    "type(countries)"
   ]
  },
  {
   "cell_type": "code",
   "execution_count": 22,
   "metadata": {},
   "outputs": [
    {
     "data": {
      "text/plain": [
       "{'Area': '652230 kilometers squared',\n",
       " 'Continent': 'Asia',\n",
       " 'GDP': '19331286549 US dollars per year',\n",
       " 'Name': 'Afghanistan',\n",
       " 'NaturalHazards': ['drought', 'earthquake', 'flood'],\n",
       " 'Population': '35623235 people'}"
      ]
     },
     "execution_count": 22,
     "metadata": {},
     "output_type": "execute_result"
    }
   ],
   "source": [
    "countries[0]"
   ]
  },
  {
   "cell_type": "code",
   "execution_count": 23,
   "metadata": {},
   "outputs": [
    {
     "data": {
      "text/plain": [
       "dict"
      ]
     },
     "execution_count": 23,
     "metadata": {},
     "output_type": "execute_result"
    }
   ],
   "source": [
    "type(countries[0])"
   ]
  },
  {
   "cell_type": "code",
   "execution_count": 24,
   "metadata": {},
   "outputs": [
    {
     "data": {
      "text/plain": [
       "dict_keys(['Name', 'Population', 'Continent', 'Area', 'GDP', 'NaturalHazards'])"
      ]
     },
     "execution_count": 24,
     "metadata": {},
     "output_type": "execute_result"
    }
   ],
   "source": [
    "countries[0].keys()"
   ]
  },
  {
   "cell_type": "code",
   "execution_count": 25,
   "metadata": {},
   "outputs": [
    {
     "data": {
      "text/plain": [
       "'Afghanistan'"
      ]
     },
     "execution_count": 25,
     "metadata": {},
     "output_type": "execute_result"
    }
   ],
   "source": [
    "countries[0]['Name']"
   ]
  },
  {
   "cell_type": "code",
   "execution_count": 26,
   "metadata": {},
   "outputs": [
    {
     "data": {
      "text/plain": [
       "'Asia'"
      ]
     },
     "execution_count": 26,
     "metadata": {},
     "output_type": "execute_result"
    }
   ],
   "source": [
    "countries[0]['Continent']"
   ]
  },
  {
   "cell_type": "code",
   "execution_count": 27,
   "metadata": {},
   "outputs": [
    {
     "data": {
      "text/plain": [
       "'652230 kilometers squared'"
      ]
     },
     "execution_count": 27,
     "metadata": {},
     "output_type": "execute_result"
    }
   ],
   "source": [
    "countries[0]['Area']"
   ]
  },
  {
   "cell_type": "code",
   "execution_count": 28,
   "metadata": {},
   "outputs": [
    {
     "data": {
      "text/plain": [
       "'19331286549 US dollars per year'"
      ]
     },
     "execution_count": 28,
     "metadata": {},
     "output_type": "execute_result"
    }
   ],
   "source": [
    "countries[0]['GDP']"
   ]
  },
  {
   "cell_type": "code",
   "execution_count": 29,
   "metadata": {
    "scrolled": true
   },
   "outputs": [
    {
     "data": {
      "text/plain": [
       "['drought', 'earthquake', 'flood']"
      ]
     },
     "execution_count": 29,
     "metadata": {},
     "output_type": "execute_result"
    }
   ],
   "source": [
    "countries[0]['NaturalHazards']"
   ]
  },
  {
   "cell_type": "code",
   "execution_count": 30,
   "metadata": {},
   "outputs": [
    {
     "data": {
      "text/plain": [
       "'35623235 people'"
      ]
     },
     "execution_count": 30,
     "metadata": {},
     "output_type": "execute_result"
    }
   ],
   "source": [
    "countries[0]['Population']"
   ]
  },
  {
   "cell_type": "markdown",
   "metadata": {},
   "source": [
    "**Find total population for each continet**"
   ]
  },
  {
   "cell_type": "code",
   "execution_count": 31,
   "metadata": {},
   "outputs": [
    {
     "name": "stdout",
     "output_type": "stream",
     "text": [
      "\n",
      "The total population in each continent:\n",
      "Africa has a total of 1130881210 people.\n",
      "Asia has a total of 4477006876 people.\n",
      "Europe has a total of 598292164 people.\n",
      "NorthAmerica has a total of 565020417 people.\n",
      "Oceania has a total of 38823795 people.\n",
      "SouthAmerica has a total of 408939962 people.\n",
      "That gives a total of 7218964424 people on Earth.\n"
     ]
    }
   ],
   "source": [
    "continental_pops = {}\n",
    "total_pop = 0\n",
    "for country in countries:\n",
    "    continent = country[\"Continent\"]\n",
    "    pop = int(country[\"Population\"].split(\" \")[0])\n",
    "    #Extarcting population for each country and Adding that poulation to the total population of that continent\n",
    "    #The second argument 0 will be used for the first coutry of that continent\n",
    "    #When continental_pops dictionary does not have any entry for a continent consider 0\n",
    "    continental_pops[continent] = continental_pops.get(continent, 0) + pop\n",
    "    total_pop += pop\n",
    "\n",
    "#Once the population is calculated. Printing the results\n",
    "print(\"\\nThe total population in each continent:\")\n",
    "for continent in sorted(continental_pops.keys()):\n",
    "    print(f\"{continent} has a total of {continental_pops[continent]} people.\")\n",
    "print(f\"That gives a total of {total_pop} people on Earth.\")"
   ]
  },
  {
   "cell_type": "markdown",
   "metadata": {},
   "source": [
    "**How many coutries are facing each type of hazard? Print your answer in a descending order.**"
   ]
  },
  {
   "cell_type": "code",
   "execution_count": 32,
   "metadata": {},
   "outputs": [
    {
     "data": {
      "text/plain": [
       "['drought', 'earthquake', 'flood']"
      ]
     },
     "execution_count": 32,
     "metadata": {},
     "output_type": "execute_result"
    }
   ],
   "source": [
    "countries[0]['NaturalHazards']"
   ]
  },
  {
   "cell_type": "code",
   "execution_count": 33,
   "metadata": {},
   "outputs": [
    {
     "data": {
      "text/plain": [
       "{'a': 100, 'b': 2, 'c': 20, 'd': 50}"
      ]
     },
     "execution_count": 33,
     "metadata": {},
     "output_type": "execute_result"
    }
   ],
   "source": [
    "alphabet = {\"a\":100,\"b\":2,\"c\":20,\"d\":50}\n",
    "alphabet"
   ]
  },
  {
   "cell_type": "code",
   "execution_count": 34,
   "metadata": {},
   "outputs": [
    {
     "data": {
      "text/plain": [
       "20"
      ]
     },
     "execution_count": 34,
     "metadata": {},
     "output_type": "execute_result"
    }
   ],
   "source": [
    "alphabet['c']"
   ]
  },
  {
   "cell_type": "code",
   "execution_count": 35,
   "metadata": {},
   "outputs": [
    {
     "data": {
      "text/plain": [
       "['a', 'd', 'c', 'b']"
      ]
     },
     "execution_count": 35,
     "metadata": {},
     "output_type": "execute_result"
    }
   ],
   "source": [
    "list(sorted(alphabet.keys(), key=(lambda x: alphabet[x]), reverse = True))"
   ]
  },
  {
   "cell_type": "code",
   "execution_count": 36,
   "metadata": {},
   "outputs": [
    {
     "name": "stdout",
     "output_type": "stream",
     "text": [
      "['a', 'd', 'c', 'b']\n"
     ]
    },
    {
     "data": {
      "text/plain": [
       "[100, 50, 20, 2]"
      ]
     },
     "execution_count": 36,
     "metadata": {},
     "output_type": "execute_result"
    }
   ],
   "source": [
    "keysSortedOnValues = list(sorted(alphabet.keys(), key=(lambda x: alphabet[x]), reverse = True))\n",
    "print(keysSortedOnValues)\n",
    "[alphabet[c] for c in keysSortedOnValues]"
   ]
  },
  {
   "cell_type": "code",
   "execution_count": 37,
   "metadata": {},
   "outputs": [
    {
     "data": {
      "text/plain": [
       "[('a', 100), ('d', 50), ('c', 20), ('b', 2)]"
      ]
     },
     "execution_count": 37,
     "metadata": {},
     "output_type": "execute_result"
    }
   ],
   "source": [
    "[(c,alphabet[c]) for c in keysSortedOnValues]"
   ]
  },
  {
   "cell_type": "code",
   "execution_count": 38,
   "metadata": {},
   "outputs": [
    {
     "name": "stdout",
     "output_type": "stream",
     "text": [
      "{'drought': 71, 'earthquake': 60, 'flood': 72, 'tsunami': 20, 'landslide': 28, 'tropical cyclone': 76, 'avalanche': 6, 'wildfire': 9, 'dust storm': 31, 'volcano': 36, 'locust plague': 3, 'land subsidence': 2, 'thunderstorm': 3, 'tornado': 2}\n",
      "\n",
      "Here are the hazards found around the world:\n",
      "Tropical cyclone is a hazard in 76 countries.\n",
      "Flood is a hazard in 72 countries.\n",
      "Drought is a hazard in 71 countries.\n",
      "Earthquake is a hazard in 60 countries.\n",
      "Volcano is a hazard in 36 countries.\n",
      "Dust storm is a hazard in 31 countries.\n",
      "Landslide is a hazard in 28 countries.\n",
      "Tsunami is a hazard in 20 countries.\n",
      "Wildfire is a hazard in 9 countries.\n",
      "Avalanche is a hazard in 6 countries.\n",
      "Locust plague is a hazard in 3 countries.\n",
      "Thunderstorm is a hazard in 3 countries.\n",
      "Land subsidence is a hazard in 2 countries.\n",
      "Tornado is a hazard in 2 countries.\n"
     ]
    }
   ],
   "source": [
    "hazard_table = {}\n",
    "for country in countries:\n",
    "    hazards = country[\"NaturalHazards\"]\n",
    "    for hazard in hazards:\n",
    "        hazard_table[hazard] = hazard_table.get(hazard, 0) + 1\n",
    "\n",
    "print(hazard_table)\n",
    "print(\"\\nHere are the hazards found around the world:\")\n",
    "for hazard in sorted(hazard_table.keys(), key=(lambda x: hazard_table[x]), reverse = True):\n",
    "    print(f\"{hazard[0].upper() + hazard[1:]} is a hazard in {hazard_table[hazard]} countries.\")\n"
   ]
  },
  {
   "cell_type": "markdown",
   "metadata": {},
   "source": [
    "**Find population density for each country and average of all countries**"
   ]
  },
  {
   "cell_type": "code",
   "execution_count": 39,
   "metadata": {},
   "outputs": [
    {
     "data": {
      "text/plain": [
       "'35623235 people'"
      ]
     },
     "execution_count": 39,
     "metadata": {},
     "output_type": "execute_result"
    }
   ],
   "source": [
    "countries[0]['Population']"
   ]
  },
  {
   "cell_type": "code",
   "execution_count": 40,
   "metadata": {},
   "outputs": [
    {
     "data": {
      "text/plain": [
       "'652230 kilometers squared'"
      ]
     },
     "execution_count": 40,
     "metadata": {},
     "output_type": "execute_result"
    }
   ],
   "source": [
    "countries[0]['Area']"
   ]
  },
  {
   "cell_type": "code",
   "execution_count": 41,
   "metadata": {},
   "outputs": [
    {
     "name": "stdout",
     "output_type": "stream",
     "text": [
      "\n",
      "Let's demonstrate the Python statistics package.\n"
     ]
    }
   ],
   "source": [
    "import statistics\n",
    "\n",
    "print(\"\\nLet's demonstrate the Python statistics package.\")\n",
    "\n",
    "for country in countries:\n",
    "    country[\"Population\"] = float(country[\"Population\"].split(\" \")[0])\n",
    "    country[\"Area\"] = float(country[\"Area\"].split(\" \")[0])\n",
    "    #avoid division by zero\n",
    "    if country[\"Area\"] == 0:\n",
    "        country[\"Area\"] = 1"
   ]
  },
  {
   "cell_type": "markdown",
   "metadata": {},
   "source": [
    "**Population density for each country of the world**"
   ]
  },
  {
   "cell_type": "code",
   "execution_count": 42,
   "metadata": {},
   "outputs": [
    {
     "name": "stdout",
     "output_type": "stream",
     "text": [
      "[('Afghanistan', 54.61759655336308), ('Albania', 113.0045568387366), ('Algeria', 15.733738471143587), ('American Samoa', 274.96984924623115), ('Andorra', 182.60256410256412), ('Angola', 17.064653084142137), ('Anguilla', 176.76923076923077), ('Antigua and Barbuda', 206.5497737556561), ('Argentina', 15.117050912757644), ('Armenia', 105.0932992636923), ('Aruba', 606.2111111111111), ('Australia', 3.0360529735623065), ('Austria', 100.77477316354879), ('Azerbaijan', 111.35222863741339), ('Bahamas', 25.87478386167147), ('Bahrain', 1827.678947368421), ('Bangladesh', 1085.9886387310935), ('Barbados', 641.2697674418605), ('Belarus', 45.61616088631985), ('Belgium', 355.119660639413), ('Belize', 14.682966123835234), ('Benin', 87.59647315799755), ('Bermuda', 1293.3148148148148), ('Bhutan', 20.15017971558056), ('Bolivia', 9.624431880762547), ('Bosnia and Herzegovina', 72.78881575092291), ('Botswana', 3.601672597253021), ('Brazil', 23.68801616277017), ('British Virgin Islands', 157.52317880794703), ('Brunei', 73.9930615784909), ('Bulgaria', 65.84509239801946), ('Burkina Faso', 67.67655725747629), ('Burundi', 325.8877470355731), ('Cambodia', 81.94853481371005), ('Cameroon', 44.93299890627629), ('Canada', 3.5363767655816365), ('Cape Verde', 127.72972972972973), ('Cayman Islands', 208.00757575757575), ('Central African Republic', 7.640565407779333), ('Chad', 9.702547507788163), ('Chile', 23.439784579329245), ('China', 142.20890136043081), ('Christmas Island', 11.207407407407407), ('Cocos Keeling Islands', 39.285714285714285), ('Colombia', 42.82214573583514), ('Comoros', 363.58299776286356), ('Cook Islands', 42.940677966101696), ('Costa Rica', 96.3741878669276), ('Croatia', 77.2159769586882), ('Cuba', 101.37446328702869), ('Curacao', 330.7117117117117), ('Cyprus', 124.679386012323), ('Czech Republic', 134.54676861044544), ('Democratic Republic of the Congo', 31.256134060143513), ('Denmark', 130.62045760430686), ('Djibouti', 41.27693965517241), ('Dominica', 97.80159786950732), ('Dominican Republic', 214.33778508321348), ('East Timor', 84.83998924297431), ('Ecuador', 53.79847369701757), ('Egypt', 86.66197413750062), ('El Salvador', 301.4586283921867), ('Equatorial Guinea', 27.86970161491569), ('Eritrea', 50.29345238095238), ('Estonia', 29.57948615901654), ('Ethiopia', 80.0077994760129), ('Falkland Islands', 0.23330321202661627), ('Faroe Islands', 35.684852835606605), ('Fiji', 48.68047499179162), ('Finland', 16.07074184151769), ('France', 116.23083952855848), ('French Guiana', 2.7407472527472527), ('French Polynesia', 67.79025677945765), ('Gabon', 6.071316225010928), ('Gambia', 170.40796812749005), ('Gaza Strip', 4898.297222222222), ('Georgia', 61.00038737446198), ('Germany', 228.62904526891901), ('Ghana', 112.02278091500966), ('Gibraltar', 4851.833333333333), ('Greece', 86.93538729725633), ('Greenland', 0.026650834731400324), ('Grenada', 308.5174418604651), ('Guadeloupe', 262.5477528089888), ('Guam', 342.94485294117646), ('Guatemala', 146.24095179494714), ('Guernsey', 841.0897435897435), ('Guinea', 44.880572853325305), ('Guinea-Bissau', 45.58809688581315), ('Guyana', 3.5399150575199214), ('Haiti', 379.15073873873877), ('Honduras', 73.43886162904809), ('Hong Kong', 6660.276268115942), ('Hungary', 106.61711527712087), ('Iceland', 3.2585533980582526), ('India', 392.96525894034033), ('Indonesia', 131.03409065253084), ('Iran', 46.83033131067961), ('Iraq', 82.07083729911777), ('Ireland', 66.62647104862465), ('Isle of Man', 150.62762237762237), ('Israel', 382.26986037554167), ('Italy', 203.01071215238602), ('Ivory Coast', 66.7760673317559), ('Jamaica', 252.99690655991265), ('Japan', 334.0750830388926), ('Jersey', 825.2758620689655), ('Jordan', 74.8172080320566), ('Kazakhstan', 6.135494513560131), ('Kenya', 77.74570228837959), ('Kiribati', 128.83847102342787), ('Kosovo', 170.77275649857629), ('Kuwait', 169.68245594342798), ('Kyrgyzstan', 27.816655080494723), ('Laos', 27.63295608108108), ('Latvia', 34.34211707875954), ('Lebanon', 416.7148871029468), ('Lesotho', 74.56323505188601), ('Liberia', 39.964891486859), ('Libya', 3.7214112779476456), ('Liechtenstein', 233.20625), ('Lithuania', 49.997120980091886), ('Luxembourg', 207.43503480278423), ('Macau', 21073.60714285714), ('Macedonia', 80.54983860304127), ('Madagascar', 39.51368814103274), ('Malawi', 143.08779244454948), ('Malaysia', 91.71551961970246), ('Maldives', 1116.6174496644296), ('Mali', 13.956047934513366), ('Malta', 1334.9493670886077), ('Marshall Islands', 392.17127071823205), ('Martinique', 372.15090909090907), ('Mauritania', 3.67364897642379), ('Mauritius', 650.7294117647059), ('Mayotte', 598.6818181818181), ('Mexico', 60.468731784918866), ('Micronesia', 161.55982905982907), ('Moldova', 102.61558004194853), ('Monaco', 15254.0), ('Mongolia', 1.8742638014060338), ('Montenegro', 45.86634810309875), ('Montserrat', 51.127450980392155), ('Morocco', 74.4606561415295), ('Mozambique', 32.01272861467638), ('Myanmar', 73.18329593927086), ('Namibia', 2.965029382791535), ('Nauru', 451.8095238095238), ('Nepal', 217.81842085595287), ('Netherlands', 404.56209228991645), ('New Caledonia', 14.341749663526246), ('New Zealand', 16.952724430549353), ('Nicaragua', 47.007118202040346), ('Niger', 14.094606156274665), ('Nigeria', 189.75352902460358), ('Niue', 6.196153846153846), ('Norfolk Island', 61.0), ('Northern Mariana Islands', 189.6551724137931), ('North Korea', 205.36479782309314), ('Norway', 15.51119202475587), ('Oman', 9.719873990306947), ('Pakistan', 234.1789434678022), ('Palau', 46.15686274509804), ('Panama', 49.4704189870061), ('Papua New Guinea', 16.17321752657506), ('Paraguay', 16.99751691448352), ('Peru', 23.6680768057665), ('Philippines', 332.55096), ('Pitcairn Islands', 1.1914893617021276), ('Poland', 122.63060907942499), ('Portugal', 116.24785535888805), ('Puerto Rico', 413.7110005527916), ('Qatar', 172.91981702054204), ('Republic of the Congo', 12.910345029239766), ('Réunion', 347.61382598331346), ('Romania', 89.30619025047086), ('Russia', 8.32834545212309), ('Rwanda', 453.7296681600729), ('Saint Helena, Ascension and Tristan da Cunha', 18.571428571428573), ('Saint Kitts and Nevis', 197.46360153256705), ('Saint Lucia', 294.15909090909093), ('Saint Pierre and Miquelon', 23.859504132231404), ('Saint Vincent and the Grenadines', 281.08997429305913), ('Samoa', 65.93924408336277), ('San Marino', 536.7540983606557), ('São Tomé and Príncipe', 185.6234439834025), ('Saudi Arabia', 15.2656068453143), ('Senegal', 70.17737212919755), ('Serbia', 92.47143557838758), ('Seychelles', 201.42857142857142), ('Sierra Leone', 88.9889322553666), ('Singapore', 7656.899569583931), ('Sint Maarten', 1167.3235294117646), ('Slovakia', 112.10678087080656), ('Slovenia', 101.0759137769447), ('Solomon Islands', 20.598352713178294), ('Somalia', 16.188502596223362), ('South Africa', 42.004390159873346), ('South Korea', 497.072298943948), ('South Sudan', 17.21186536691659), ('Spain', 93.57600174129846), ('Sri Lanka', 328.54520652339585), ('Sudan', 25.417285060771935), ('Suriname', 3.3176474178976925), ('Svalbard', 0.04250141026674188), ('Swaziland', 72.19102741303847), ('Sweden', 21.309628132668585), ('Switzerland', 188.6812510599123), ('Syria', 117.84968679123016), ('Taiwan', 649.2475819899944), ('Tajikistan', 50.94865129280224), ('Tanzania', 53.52622189380344), ('Thailand', 137.53349119114438), ('Togo', 115.22534119926037), ('Tokelau', 112.75), ('Tonga', 141.51807228915663), ('Trinidad and Tobago', 265.07566302652106), ('Tunisia', 66.74832222969256), ('Turkey', 97.23593155359755), ('Turkmenistan', 10.857850850235607), ('Turks and Caicos Islands', 51.76160337552743), ('Tuvalu', 414.6923076923077), ('Uganda', 160.66484070496526), ('Ukraine', 73.66040261784443), ('United Arab Emirates', 99.01473684210526), ('United Kingdom', 260.8931653052009), ('United States', 33.47616083609686), ('United States Virgin Islands', 310.31518624641836), ('Uruguay', 19.381165054053287), ('Uzbekistan', 64.20487930263747), ('Vanuatu', 21.66100582492411), ('Vatican City', 839.0), ('Venezuela', 33.75479633792007), ('Vietnam', 277.8335386576041), ('Wallis and Futuna Islands', 109.20422535211267), ('West Bank', 466.04982935153583), ('Western Sahara', 2.200263157894737), ('Yemen', 51.447335823383234), ('Zambia', 19.621574291340362), ('Zimbabwe', 34.970897514311964)]\n"
     ]
    }
   ],
   "source": [
    "print([(country[\"Name\"], country[\"Population\"] / country[\"Area\"]) for country in countries])"
   ]
  },
  {
   "cell_type": "markdown",
   "metadata": {},
   "source": [
    "**Average population density for all countries**"
   ]
  },
  {
   "cell_type": "code",
   "execution_count": 43,
   "metadata": {},
   "outputs": [
    {
     "name": "stdout",
     "output_type": "stream",
     "text": [
      "Mean population density is 415.4 people per square kilometer.\n"
     ]
    }
   ],
   "source": [
    "mn = statistics.mean([country[\"Population\"] / country[\"Area\"] for country in countries])\n",
    "print(f\"Mean population density is {mn:.1f} people per square kilometer.\")"
   ]
  },
  {
   "cell_type": "markdown",
   "metadata": {},
   "source": [
    "# Exploring the mountains file"
   ]
  },
  {
   "cell_type": "code",
   "execution_count": 44,
   "metadata": {},
   "outputs": [
    {
     "name": "stdout",
     "output_type": "stream",
     "text": [
      "Read 3741 mountains from the JSON file.\n",
      "JSON data file generated from Wolfram Mathematica.\n"
     ]
    }
   ],
   "source": [
    "import json\n",
    "\n",
    "with open('mountains.json', encoding=\"utf-8\") as data_file:\n",
    "    mountains = json.load(data_file)\n",
    "\n",
    "print(f\"Read {len(mountains)} mountains from the JSON file.\")\n",
    "print(\"JSON data file generated from Wolfram Mathematica.\")\n"
   ]
  },
  {
   "cell_type": "code",
   "execution_count": 45,
   "metadata": {},
   "outputs": [
    {
     "data": {
      "text/plain": [
       "list"
      ]
     },
     "execution_count": 45,
     "metadata": {},
     "output_type": "execute_result"
    }
   ],
   "source": [
    "type(mountains)"
   ]
  },
  {
   "cell_type": "code",
   "execution_count": 46,
   "metadata": {},
   "outputs": [
    {
     "data": {
      "text/plain": [
       "{'ClimbingDifficulty': 'Walk Up',\n",
       " 'ClimbingMonths': ['June', 'July', 'August', 'September'],\n",
       " 'Countries': ['United States'],\n",
       " 'Elevation': '1323 meters',\n",
       " 'MountainRange': '{Sandwich Range}',\n",
       " 'Name': 'Osceola'}"
      ]
     },
     "execution_count": 46,
     "metadata": {},
     "output_type": "execute_result"
    }
   ],
   "source": [
    "mountains[0]"
   ]
  },
  {
   "cell_type": "code",
   "execution_count": 47,
   "metadata": {},
   "outputs": [
    {
     "data": {
      "text/plain": [
       "dict"
      ]
     },
     "execution_count": 47,
     "metadata": {},
     "output_type": "execute_result"
    }
   ],
   "source": [
    "type(mountains[0])"
   ]
  },
  {
   "cell_type": "code",
   "execution_count": 48,
   "metadata": {},
   "outputs": [
    {
     "data": {
      "text/plain": [
       "dict_keys(['Name', 'Elevation', 'ClimbingDifficulty', 'Countries', 'ClimbingMonths', 'MountainRange'])"
      ]
     },
     "execution_count": 48,
     "metadata": {},
     "output_type": "execute_result"
    }
   ],
   "source": [
    "mountains[0].keys()"
   ]
  },
  {
   "cell_type": "code",
   "execution_count": 49,
   "metadata": {
    "collapsed": true
   },
   "outputs": [],
   "source": [
    "Countries_Mountain_list = {} # Will store country name along list of mountains\n",
    "tallest = {}#Will contain a tuple for all country keys (names) the tuple is mountain name and its height\n",
    "smallest = ('Molehill', 0)\n",
    "\n",
    "for mountain in mountains:\n",
    "    for country in mountain['Countries']:\n",
    "        Countries_Mountain_list[country] = Countries_Mountain_list.get(country, []) + [mountain['Name']]\n",
    "        t = tallest.get(country, smallest)\n",
    "        try:\n",
    "            e = int(mountain['Elevation'].split(' ')[0])\n",
    "        except ValueError:\n",
    "            e = 0\n",
    "        if e > t[1]:\n",
    "            tallest[country] = (mountain['Name'], e)"
   ]
  },
  {
   "cell_type": "code",
   "execution_count": 50,
   "metadata": {},
   "outputs": [
    {
     "data": {
      "text/plain": [
       "{'Afghanistan': ('Noshaq', 7492),\n",
       " 'Albania': ('Golemi Korab', 2764),\n",
       " 'Algeria': ('Tahat', 2918),\n",
       " 'Andorra': ('Pic de Coma Pedrosa', 2942),\n",
       " 'Antarctica': ('Vinson Massif', 4897),\n",
       " 'Antigua and Barbuda': ('Volcan Antigua', 3406),\n",
       " 'Argentina': ('Aconcagua', 6962),\n",
       " 'Armenia': ('Mount Aragats', 4090),\n",
       " 'Australia': ('Mawson Peak', 2745),\n",
       " 'Austria': ('Grossglockner', 3798),\n",
       " 'Azerbaijan': ('Mount Bazardüzü', 4466),\n",
       " 'Bangladesh': ('Keokradong', 883),\n",
       " 'Belgium': ('Signal de Botrange', 694),\n",
       " 'Bhutan': ('Gangkar Punsum', 7570),\n",
       " 'Bolivia': ('Sajama', 6530),\n",
       " 'Bosnia and Herzegovina': ('Maglić ', 2387),\n",
       " 'Brazil': ('Pico da Neblina', 2994),\n",
       " 'Brunei': ('Bukit Batu Bujang Pahang', 70),\n",
       " 'Bulgaria': ('Musala', 2925),\n",
       " 'Burkina Faso': ('Mount Tenakourou', 747),\n",
       " 'Cambodia': ('Phnom Aural', 1813),\n",
       " 'Cameroon': ('Cameroon Mountain', 4070),\n",
       " 'Canada': ('Mount Logan', 5959),\n",
       " 'Chad': ('Emi Koussi', 3415),\n",
       " 'Chile': ('Ojos del Salado', 6880),\n",
       " 'China': ('Mount Everest', 8848),\n",
       " 'Colombia': ('Pico Cristóbal Colón', 5775),\n",
       " 'Costa Rica': ('Cerro Chirripó', 3820),\n",
       " 'Croatia': ('Dinara', 1831),\n",
       " 'Cuba': ('Pico Turquino', 1974),\n",
       " 'Curacao': ('Christoffelberg', 372),\n",
       " 'Cyprus': ('Mount Olympus', 1952),\n",
       " 'Czech Republic': ('Snezka', 1602),\n",
       " 'Democratic Republic of the Congo': ('Mount Stanley', 5109),\n",
       " 'Denmark': ('Yding Skovhøj', 172),\n",
       " 'Dominica': ('Morne Anglais', 1123),\n",
       " 'Dominican Republic': ('Pico Duarte', 3175),\n",
       " 'Ecuador': ('Chimborazo', 6267),\n",
       " 'Egypt': ('Mount Sinai', 2640),\n",
       " 'El Salvador': ('Cerro El Pital', 2730),\n",
       " 'Eritrea': ('Emba Soira', 3018),\n",
       " 'Ethiopia': ('Ras Dashen', 4533),\n",
       " 'Faroe Islands': ('Slættaratindur', 880),\n",
       " 'Finland': ('Mount Haltia', 1328),\n",
       " 'France': ('Mont Blanc', 4810),\n",
       " 'French Polynesia': ('Aorai', 2066),\n",
       " 'Georgia': ('Shkhara', 5200),\n",
       " 'Germany': ('Zugspitze', 2962),\n",
       " 'Gibraltar': ('Rock of Gibraltar', 426),\n",
       " 'Greece': ('Mount Olympus (Greece)', 2919),\n",
       " 'Greenland': ('Snebordet', 3150),\n",
       " 'Guatemala': ('Tajumulco', 4220),\n",
       " 'Guyana': ('Mount Roraima', 2810),\n",
       " 'Honduras': ('Cerro Las Minas', 2870),\n",
       " 'Hong Kong': ('Tai Mo Shan', 957),\n",
       " 'Hungary': ('Kékes', 1015),\n",
       " 'Iceland': ('Hvannadalshnukur', 2119),\n",
       " 'India': ('Kangchenjunga', 8586),\n",
       " 'Indonesia': ('Puncak Jaya', 4884),\n",
       " 'Iran': ('Damavand', 5670),\n",
       " 'Ireland': ('Carrantuohill', 1040),\n",
       " 'Isle of Man': ('Snaefell', 620),\n",
       " 'Israel': ('Har Karkom', 1035),\n",
       " 'Italy': ('Mont Blanc', 4810),\n",
       " 'Jamaica': ('Blue Mountain Peak', 2317),\n",
       " 'Japan': ('Fuji-san', 3776),\n",
       " 'Jordan': ('Mount Nebo', 817),\n",
       " 'Kazakhstan': ('Hantengri Feng', 6995),\n",
       " 'Kenya': ('Mount Kenya', 5199),\n",
       " 'Kosovo': ('Đeravica', 2656),\n",
       " 'Kyrgyzstan': ('Jengish Chokusu', 7439),\n",
       " 'Laos': ('Phou Bia', 2830),\n",
       " 'Latvia': ('Gaizins', 311),\n",
       " 'Lebanon': (\"Qurnat as Sawda'\", 3088),\n",
       " 'Lesotho': ('Thabana Ntlenyana', 3482),\n",
       " 'Libya': ('Danghar Puge', 5031),\n",
       " 'Liechtenstein': ('Grauspitz', 2599),\n",
       " 'Lithuania': ('Juozapine', 292),\n",
       " 'Luxembourg': ('Kneiff', 560),\n",
       " 'Macedonia': ('Golemi Korab', 2764),\n",
       " 'Madagascar': ('Maromokotro', 2876),\n",
       " 'Malawi': ('Mulanje', 3003),\n",
       " 'Malaysia': ('Mount Kinabalu', 4102),\n",
       " 'Martinique': ('Mont Pelée', 1397),\n",
       " 'Mexico': ('Pico de Orizaba', 5610),\n",
       " 'Monaco': ('Mont Agel', 1148),\n",
       " 'Mongolia': ('Khüiten Peak', 4374),\n",
       " 'Montenegro': ('Đeravica', 2656),\n",
       " 'Montserrat': ('Soufriére Hills', 915),\n",
       " 'Morocco': ('Toubkal', 4167),\n",
       " 'Mozambique': ('Monte Binga', 2439),\n",
       " 'Myanmar': ('Hkakabo Razi', 5881),\n",
       " 'Namibia': ('Koenigsstein', 2573),\n",
       " 'Nepal': ('Mount Everest', 8848),\n",
       " 'Netherlands': ('Mount Scenery', 870),\n",
       " 'New Zealand': ('Mount Cook', 3754),\n",
       " 'Nicaragua': ('Volcan Mombacho', 1345),\n",
       " 'North Korea': ('Mount Baekdu', 2744),\n",
       " 'Northern Mariana Islands': ('Mount (Saipan) Tagpochau', 474),\n",
       " 'Norway': ('Galdhøpiggen', 2469),\n",
       " 'Oman': ('Jebel Shams', 3009),\n",
       " 'Pakistan': ('K2', 8612),\n",
       " 'Panama': ('Volcan Baru', 3478),\n",
       " 'Papua New Guinea': ('Mount Wilhelm', 4509),\n",
       " 'Peru': ('Huascaran', 6768),\n",
       " 'Philippines': ('Mount Apo', 2954),\n",
       " 'Poland': ('Rysy', 2499),\n",
       " 'Portugal': ('Montanha Do Pico', 2351),\n",
       " 'Puerto Rico': ('Cerro Rosa', 1267),\n",
       " 'Romania': ('Moldoveanu', 2545),\n",
       " 'Russia': ('Mount Elbrus', 5642),\n",
       " 'Rwanda': ('Mount Karisimbi', 4507),\n",
       " 'Réunion': ('Piton des Neiges', 3070),\n",
       " 'Saint Kitts and Nevis': ('Mount Liamuiga', 1156),\n",
       " 'Saudi Arabia': ('Jabal Sawda', 3133),\n",
       " 'Serbia': ('Đeravica', 2656),\n",
       " 'Singapore': ('Bukit Timah', 163),\n",
       " 'Sint Maarten': ('Pic Paradis', 420),\n",
       " 'Slovakia': ('Gerlachovský štít', 2655),\n",
       " 'Slovenia': ('Triglav', 2864),\n",
       " 'Solomon Islands': ('Mount Popomanaseu', 2335),\n",
       " 'South Africa': ('Mafadi', 3450),\n",
       " 'South Korea': ('Halla-san', 1950),\n",
       " 'Spain': ('Pico de Teide', 3718),\n",
       " 'Sri Lanka': ('Piduruthalagala', 2524),\n",
       " 'Sudan': ('Jebel Uweinat', 1934),\n",
       " 'Svalbard': ('Newtontoppen', 1717),\n",
       " 'Sweden': ('Kebnekaise', 2111),\n",
       " 'Switzerland': ('Monte Rosa', 4633),\n",
       " 'Taiwan': ('Yushan', 3997),\n",
       " 'Tajikistan': ('Pik Imeni Ismail Samani', 7495),\n",
       " 'Tanzania': ('Mount Kilimanjaro', 5895),\n",
       " 'Thailand': ('Phu Khi Suek', 753),\n",
       " 'Tunisia': ('Jebel Chaambi', 1544),\n",
       " 'Turkey': ('Mount Ararat', 5165),\n",
       " 'Uganda': ('Mount Baker', 4844),\n",
       " 'Ukraine': ('Goverla', 2061),\n",
       " 'United Arab Emirates': ('Jebel Yibir', 1527),\n",
       " 'United Kingdom': ('Ben Nevis', 1343),\n",
       " 'United States': ('Denali', 6190),\n",
       " 'Uzbekistan': ('Khazret Sultan', 4643),\n",
       " 'Venezuela': ('Pico Bolivar', 5007),\n",
       " 'Vietnam': ('Fan Si Pan', 3211),\n",
       " 'West Bank': ('Mount Ebal', 940),\n",
       " 'Yemen': ('Hadur Shu‘ayb', 3760),\n",
       " 'Zambia': ('Mumpu', 1951),\n",
       " 'Zimbabwe': ('Mount Nyangani', 2592)}"
      ]
     },
     "execution_count": 50,
     "metadata": {},
     "output_type": "execute_result"
    }
   ],
   "source": [
    "tallest"
   ]
  },
  {
   "cell_type": "code",
   "execution_count": 51,
   "metadata": {},
   "outputs": [
    {
     "name": "stdout",
     "output_type": "stream",
     "text": [
      "\n",
      "Here are top thirty countries sorted by their tallest mountains using sorted list slice:\n",
      "Nepal with Mount Everest, elevation 8848 m.\n",
      "China with Mount Everest, elevation 8848 m.\n",
      "Pakistan with K2, elevation 8612 m.\n",
      "India with Kangchenjunga, elevation 8586 m.\n",
      "Bhutan with Gangkar Punsum, elevation 7570 m.\n",
      "Tajikistan with Pik Imeni Ismail Samani, elevation 7495 m.\n",
      "Afghanistan with Noshaq, elevation 7492 m.\n",
      "Kyrgyzstan with Jengish Chokusu, elevation 7439 m.\n",
      "Kazakhstan with Hantengri Feng, elevation 6995 m.\n",
      "Argentina with Aconcagua, elevation 6962 m.\n",
      "Chile with Ojos del Salado, elevation 6880 m.\n",
      "Peru with Huascaran, elevation 6768 m.\n",
      "Bolivia with Sajama, elevation 6530 m.\n",
      "Ecuador with Chimborazo, elevation 6267 m.\n",
      "United States with Denali, elevation 6190 m.\n",
      "Canada with Mount Logan, elevation 5959 m.\n",
      "Tanzania with Mount Kilimanjaro, elevation 5895 m.\n",
      "Myanmar with Hkakabo Razi, elevation 5881 m.\n",
      "Colombia with Pico Cristóbal Colón, elevation 5775 m.\n",
      "Iran with Damavand, elevation 5670 m.\n",
      "Russia with Mount Elbrus, elevation 5642 m.\n",
      "Mexico with Pico de Orizaba, elevation 5610 m.\n",
      "Georgia with Shkhara, elevation 5200 m.\n",
      "Kenya with Mount Kenya, elevation 5199 m.\n",
      "Turkey with Mount Ararat, elevation 5165 m.\n",
      "Democratic Republic of the Congo with Mount Stanley, elevation 5109 m.\n",
      "Libya with Danghar Puge, elevation 5031 m.\n",
      "Venezuela with Pico Bolivar, elevation 5007 m.\n",
      "Antarctica with Vinson Massif, elevation 4897 m.\n",
      "Indonesia with Puncak Jaya, elevation 4884 m.\n"
     ]
    }
   ],
   "source": [
    "print(\"\\nHere are top thirty countries sorted by their tallest mountains using sorted list slice:\")\n",
    "#Prepare a list with country names from the dict tallest \n",
    "countryNames = list(tallest.keys())\n",
    "#At the end taking a slice of 30 size from the list\n",
    "countryNames = sorted(countryNames, key = (lambda x: tallest.get(x, smallest)[1]), reverse = True)[:30]\n",
    "for c in countryNames: \n",
    "    t = tallest[c]\n",
    "    print(f'{c} with {t[0]}, elevation {t[1]} m.')"
   ]
  },
  {
   "cell_type": "markdown",
   "metadata": {},
   "source": [
    "**Another method to extract top thirty countries sorted by their tallest mountains**"
   ]
  },
  {
   "cell_type": "code",
   "execution_count": 52,
   "metadata": {},
   "outputs": [
    {
     "name": "stdout",
     "output_type": "stream",
     "text": [
      "\n",
      "Here are top thirty countries sorted by their tallest mountains using list index:\n",
      " 1. Nepal with Mount Everest, elevation 8848 m.\n",
      " 2. China with Mount Everest, elevation 8848 m.\n",
      " 3. Pakistan with K2, elevation 8612 m.\n",
      " 4. India with Kangchenjunga, elevation 8586 m.\n",
      " 5. Bhutan with Gangkar Punsum, elevation 7570 m.\n",
      " 6. Tajikistan with Pik Imeni Ismail Samani, elevation 7495 m.\n",
      " 7. Afghanistan with Noshaq, elevation 7492 m.\n",
      " 8. Kyrgyzstan with Jengish Chokusu, elevation 7439 m.\n",
      " 9. Kazakhstan with Hantengri Feng, elevation 6995 m.\n",
      "10. Argentina with Aconcagua, elevation 6962 m.\n",
      "11. Chile with Ojos del Salado, elevation 6880 m.\n",
      "12. Peru with Huascaran, elevation 6768 m.\n",
      "13. Bolivia with Sajama, elevation 6530 m.\n",
      "14. Ecuador with Chimborazo, elevation 6267 m.\n",
      "15. United States with Denali, elevation 6190 m.\n",
      "16. Canada with Mount Logan, elevation 5959 m.\n",
      "17. Tanzania with Mount Kilimanjaro, elevation 5895 m.\n",
      "18. Myanmar with Hkakabo Razi, elevation 5881 m.\n",
      "19. Colombia with Pico Cristóbal Colón, elevation 5775 m.\n",
      "20. Iran with Damavand, elevation 5670 m.\n",
      "21. Russia with Mount Elbrus, elevation 5642 m.\n",
      "22. Mexico with Pico de Orizaba, elevation 5610 m.\n",
      "23. Georgia with Shkhara, elevation 5200 m.\n",
      "24. Kenya with Mount Kenya, elevation 5199 m.\n",
      "25. Turkey with Mount Ararat, elevation 5165 m.\n",
      "26. Democratic Republic of the Congo with Mount Stanley, elevation 5109 m.\n",
      "27. Libya with Danghar Puge, elevation 5031 m.\n",
      "28. Venezuela with Pico Bolivar, elevation 5007 m.\n",
      "29. Antarctica with Vinson Massif, elevation 4897 m.\n",
      "30. Indonesia with Puncak Jaya, elevation 4884 m.\n"
     ]
    }
   ],
   "source": [
    "print(\"\\nHere are top thirty countries sorted by their tallest mountains using list index:\")\n",
    "\n",
    "countryNames = sorted(countryNames,key = (lambda x: tallest.get(x)[1]),reverse = True)\n",
    "for i in range(30):\n",
    "    c = countryNames[i]\n",
    "    t = tallest[c]\n",
    "    print(f'{i+1:2}. {c} with {t[0]}, elevation {t[1]} m.')\n"
   ]
  },
  {
   "cell_type": "code",
   "execution_count": 53,
   "metadata": {},
   "outputs": [
    {
     "name": "stdout",
     "output_type": "stream",
     "text": [
      "\n",
      "Here are the top thirty countries sorted by named mountains:\n",
      " 1. United States with 1011 named mountains.\n",
      " 2. Canada with 185 named mountains.\n",
      " 3. India with 85 named mountains.\n",
      " 4. Nepal with 72 named mountains.\n",
      " 5. China with 64 named mountains.\n",
      " 6. Pakistan with 53 named mountains.\n",
      " 7. Argentina with 49 named mountains.\n",
      " 8. Chile with 41 named mountains.\n",
      " 9. Peru with 39 named mountains.\n",
      "10. Mexico with 33 named mountains.\n",
      "11. Iran with 31 named mountains.\n",
      "12. Turkey with 30 named mountains.\n",
      "13. Bolivia with 26 named mountains.\n",
      "14. Indonesia with 25 named mountains.\n",
      "15. Kyrgyzstan with 22 named mountains.\n",
      "16. Ecuador with 19 named mountains.\n",
      "17. Georgia with 18 named mountains.\n",
      "18. Venezuela with 17 named mountains.\n",
      "19. Russia with 15 named mountains.\n",
      "20. Tajikistan with 14 named mountains.\n",
      "21. Colombia with 12 named mountains.\n",
      "22. Antarctica with 12 named mountains.\n",
      "23. Democratic Republic of the Congo with 11 named mountains.\n",
      "24. Kazakhstan with 5 named mountains.\n",
      "25. Tanzania with 5 named mountains.\n",
      "26. Afghanistan with 4 named mountains.\n",
      "27. Myanmar with 4 named mountains.\n",
      "28. Bhutan with 3 named mountains.\n",
      "29. Kenya with 3 named mountains.\n",
      "30. Libya with 1 named mountains.\n"
     ]
    }
   ],
   "source": [
    "print(\"\\nHere are the top thirty countries sorted by named mountains:\")\n",
    "\n",
    "countryNames = sorted(countryNames, key = (lambda x: len(Countries_Mountain_list.get(x, []))),reverse = True)\n",
    "\n",
    "for i in range(30):\n",
    "    c = countryNames[i]\n",
    "    print(f'{i+1:2}. {c} with {len(Countries_Mountain_list[c])} named mountains.')"
   ]
  },
  {
   "cell_type": "code",
   "execution_count": 54,
   "metadata": {},
   "outputs": [
    {
     "name": "stdout",
     "output_type": "stream",
     "text": [
      "\n",
      "Let's see how well Benford's law applies to mountain heights.\n",
      "Digit\tMeters\tFeet\tYards\tBenford\n",
      "1\t21.3\t30.4\t25.0\t30.1\n",
      "2\t29.2\t11.4\t30.0\t17.6\n",
      "3\t17.9\t7.5\t18.0\t12.5\n",
      "4\t10.0\t6.7\t6.2\t9.7\n",
      "5\t5.8\t6.8\t6.3\t7.9\n",
      "6\t5.5\t9.8\t5.6\t6.7\n",
      "7\t4.9\t10.2\t3.3\t5.8\n",
      "8\t2.3\t8.8\t2.4\t5.1\n",
      "9\t2.2\t7.6\t2.4\t4.6\n"
     ]
    }
   ],
   "source": [
    "# https://en.wikipedia.org/wiki/Benford%27s_law\n",
    "print(\"\\nLet's see how well Benford's law applies to mountain heights.\")\n",
    "\n",
    "digit_m = {}\n",
    "digit_f = {}\n",
    "digit_y = {}\n",
    "\n",
    "count = 0\n",
    "for mountain in mountains:\n",
    "    try:\n",
    "        m = int(mountain['Elevation'].split(' ')[0])\n",
    "    except ValueError:\n",
    "        m = 0\n",
    "    h = int(str(m)[0])\n",
    "    digit_m[h] = digit_m.get(h, 0) + 1\n",
    "    f = 0.3048 * m  # feet\n",
    "    h = int(str(f)[0])\n",
    "    digit_f[h] = digit_f.get(h, 0) + 1\n",
    "    y = 0.9144 * m # yards\n",
    "    h = int(str(y)[0])\n",
    "    digit_y[h] = digit_y.get(h, 0) + 1\n",
    "    count += 1\n",
    "\n",
    "from math import log\n",
    "benford = [100 * (log(d+1, 10) - log(d, 10)) for d in range(1, 10)]\n",
    "\n",
    "print(\"Digit\\tMeters\\tFeet\\tYards\\tBenford\")\n",
    "for d in range(1, 10):\n",
    "    print(f\"{d}\\t{100 * digit_m[d] / count:.1f}\\t{100 * digit_f[d] / count:.1f}\"\n",
    "          +f\"\\t{100 * digit_y[d] / count:.1f}\\t{benford[d-1]:.1f}\")"
   ]
  }
 ],
 "metadata": {
  "kernelspec": {
   "display_name": "Python 3",
   "language": "python",
   "name": "python3"
  },
  "language_info": {
   "codemirror_mode": {
    "name": "ipython",
    "version": 3
   },
   "file_extension": ".py",
   "mimetype": "text/x-python",
   "name": "python",
   "nbconvert_exporter": "python",
   "pygments_lexer": "ipython3",
   "version": "3.6.3"
  }
 },
 "nbformat": 4,
 "nbformat_minor": 2
}
